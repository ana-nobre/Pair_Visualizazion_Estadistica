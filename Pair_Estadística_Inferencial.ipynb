{
 "cells": [
  {
   "cell_type": "code",
   "execution_count": 74,
   "id": "994a9cb5",
   "metadata": {},
   "outputs": [],
   "source": [
    "\n",
    "# importamos las librerías que necesitamos\n",
    "\n",
    "# Tratamiento de datos\n",
    "# -----------------------------------------------------------------------\n",
    "import pandas as pd\n",
    "import numpy as np\n",
    "\n",
    "# Visualización\n",
    "# ------------------------------------------------------------------------------\n",
    "import matplotlib.pyplot as plt\n",
    "import seaborn as sns\n",
    "\n",
    "# Evaluar linealidad de las relaciones entre las variables\n",
    "# y la distribución de las variables\n",
    "# ------------------------------------------------------------------------------\n",
    "import scipy.stats as stats\n",
    "from scipy.stats import chi2_contingency, ttest_ind\n",
    "\n",
    "# Configuración\n",
    "# -----------------------------------------------------------------------\n",
    "pd.set_option('display.max_columns', None) # para poder visualizar todas las columnas de los DataFrames\n",
    "\n",
    "# Gestión de los warnings\n",
    "# -----------------------------------------------------------------------\n",
    "import warnings\n",
    "warnings.filterwarnings(\"ignore\")"
   ]
  },
  {
   "cell_type": "code",
   "execution_count": 15,
   "id": "fc97931e",
   "metadata": {},
   "outputs": [],
   "source": [
    "df = pd.read_csv('world_data_full_apply_nulos.csv')"
   ]
  },
  {
   "cell_type": "code",
   "execution_count": 3,
   "id": "77b90eda",
   "metadata": {},
   "outputs": [
    {
     "data": {
      "text/html": [
       "<div>\n",
       "<style scoped>\n",
       "    .dataframe tbody tr th:only-of-type {\n",
       "        vertical-align: middle;\n",
       "    }\n",
       "\n",
       "    .dataframe tbody tr th {\n",
       "        vertical-align: top;\n",
       "    }\n",
       "\n",
       "    .dataframe thead th {\n",
       "        text-align: right;\n",
       "    }\n",
       "</style>\n",
       "<table border=\"1\" class=\"dataframe\">\n",
       "  <thead>\n",
       "    <tr style=\"text-align: right;\">\n",
       "      <th></th>\n",
       "      <th>Unnamed: 0</th>\n",
       "      <th>country</th>\n",
       "      <th>density</th>\n",
       "      <th>abbreviation</th>\n",
       "      <th>agricultural_land</th>\n",
       "      <th>land_area</th>\n",
       "      <th>armed_forces_size</th>\n",
       "      <th>birth_rate</th>\n",
       "      <th>calling_code</th>\n",
       "      <th>capital/major_city</th>\n",
       "      <th>co2-emissions</th>\n",
       "      <th>cpi</th>\n",
       "      <th>cpi_change</th>\n",
       "      <th>currency-code</th>\n",
       "      <th>fertility_rate</th>\n",
       "      <th>forested_area</th>\n",
       "      <th>gasoline_price</th>\n",
       "      <th>gdp</th>\n",
       "      <th>gross_primary_education_enrollment</th>\n",
       "      <th>gross_tertiary_education_enrollment</th>\n",
       "      <th>infant_mortality</th>\n",
       "      <th>largest_city</th>\n",
       "      <th>life_expectancy</th>\n",
       "      <th>maternal_mortality_ratio</th>\n",
       "      <th>minimum_wage</th>\n",
       "      <th>official_language</th>\n",
       "      <th>out_of_pocket_health_expenditure</th>\n",
       "      <th>physicians_per_thousand</th>\n",
       "      <th>population</th>\n",
       "      <th>population_labor_force_participation</th>\n",
       "      <th>tax_revenue</th>\n",
       "      <th>total_tax_rate</th>\n",
       "      <th>unemployment_rate</th>\n",
       "      <th>urban_population</th>\n",
       "      <th>latitude</th>\n",
       "      <th>longitude</th>\n",
       "      <th>continent</th>\n",
       "    </tr>\n",
       "  </thead>\n",
       "  <tbody>\n",
       "    <tr>\n",
       "      <th>0</th>\n",
       "      <td>0</td>\n",
       "      <td>Afghanistan</td>\n",
       "      <td>60.0</td>\n",
       "      <td>AF</td>\n",
       "      <td>58.1</td>\n",
       "      <td>652.230</td>\n",
       "      <td>323.0</td>\n",
       "      <td>32.49</td>\n",
       "      <td>93.0</td>\n",
       "      <td>Kabul</td>\n",
       "      <td>8.672</td>\n",
       "      <td>149.90</td>\n",
       "      <td>2.3</td>\n",
       "      <td>AFN</td>\n",
       "      <td>4.47</td>\n",
       "      <td>2.1</td>\n",
       "      <td>0.70</td>\n",
       "      <td>1.910135e+10</td>\n",
       "      <td>104.0</td>\n",
       "      <td>9.7</td>\n",
       "      <td>47.9</td>\n",
       "      <td>Kabul</td>\n",
       "      <td>64.5</td>\n",
       "      <td>638.0</td>\n",
       "      <td>0.43</td>\n",
       "      <td>Pashto</td>\n",
       "      <td>78.4</td>\n",
       "      <td>0.28</td>\n",
       "      <td>NaN</td>\n",
       "      <td>48.9</td>\n",
       "      <td>9.3</td>\n",
       "      <td>71.4</td>\n",
       "      <td>11.12</td>\n",
       "      <td>NaN</td>\n",
       "      <td>33.939110</td>\n",
       "      <td>67.709953</td>\n",
       "      <td>Asia</td>\n",
       "    </tr>\n",
       "    <tr>\n",
       "      <th>1</th>\n",
       "      <td>1</td>\n",
       "      <td>Albania</td>\n",
       "      <td>105.0</td>\n",
       "      <td>AL</td>\n",
       "      <td>43.1</td>\n",
       "      <td>28.748</td>\n",
       "      <td>9.0</td>\n",
       "      <td>11.78</td>\n",
       "      <td>355.0</td>\n",
       "      <td>Tirana</td>\n",
       "      <td>4.536</td>\n",
       "      <td>119.05</td>\n",
       "      <td>1.4</td>\n",
       "      <td>ALL</td>\n",
       "      <td>1.62</td>\n",
       "      <td>28.1</td>\n",
       "      <td>1.36</td>\n",
       "      <td>1.527808e+10</td>\n",
       "      <td>107.0</td>\n",
       "      <td>55.0</td>\n",
       "      <td>7.8</td>\n",
       "      <td>Tirana</td>\n",
       "      <td>78.5</td>\n",
       "      <td>15.0</td>\n",
       "      <td>1.12</td>\n",
       "      <td>Albanian</td>\n",
       "      <td>56.9</td>\n",
       "      <td>1.20</td>\n",
       "      <td>NaN</td>\n",
       "      <td>55.7</td>\n",
       "      <td>18.6</td>\n",
       "      <td>36.6</td>\n",
       "      <td>12.33</td>\n",
       "      <td>NaN</td>\n",
       "      <td>41.153332</td>\n",
       "      <td>20.168331</td>\n",
       "      <td>Europe</td>\n",
       "    </tr>\n",
       "  </tbody>\n",
       "</table>\n",
       "</div>"
      ],
      "text/plain": [
       "   Unnamed: 0      country  density abbreviation  agricultural_land  \\\n",
       "0           0  Afghanistan     60.0           AF               58.1   \n",
       "1           1      Albania    105.0           AL               43.1   \n",
       "\n",
       "   land_area  armed_forces_size  birth_rate  calling_code capital/major_city  \\\n",
       "0    652.230              323.0       32.49          93.0              Kabul   \n",
       "1     28.748                9.0       11.78         355.0             Tirana   \n",
       "\n",
       "   co2-emissions     cpi  cpi_change currency-code  fertility_rate  \\\n",
       "0          8.672  149.90         2.3           AFN            4.47   \n",
       "1          4.536  119.05         1.4           ALL            1.62   \n",
       "\n",
       "   forested_area  gasoline_price           gdp  \\\n",
       "0            2.1            0.70  1.910135e+10   \n",
       "1           28.1            1.36  1.527808e+10   \n",
       "\n",
       "   gross_primary_education_enrollment  gross_tertiary_education_enrollment  \\\n",
       "0                               104.0                                  9.7   \n",
       "1                               107.0                                 55.0   \n",
       "\n",
       "   infant_mortality largest_city  life_expectancy  maternal_mortality_ratio  \\\n",
       "0              47.9        Kabul             64.5                     638.0   \n",
       "1               7.8       Tirana             78.5                      15.0   \n",
       "\n",
       "   minimum_wage official_language  out_of_pocket_health_expenditure  \\\n",
       "0          0.43            Pashto                              78.4   \n",
       "1          1.12          Albanian                              56.9   \n",
       "\n",
       "   physicians_per_thousand  population  population_labor_force_participation  \\\n",
       "0                     0.28         NaN                                  48.9   \n",
       "1                     1.20         NaN                                  55.7   \n",
       "\n",
       "   tax_revenue  total_tax_rate  unemployment_rate  urban_population  \\\n",
       "0          9.3            71.4              11.12               NaN   \n",
       "1         18.6            36.6              12.33               NaN   \n",
       "\n",
       "    latitude  longitude continent  \n",
       "0  33.939110  67.709953      Asia  \n",
       "1  41.153332  20.168331    Europe  "
      ]
     },
     "execution_count": 3,
     "metadata": {},
     "output_type": "execute_result"
    }
   ],
   "source": [
    "df.head(2)"
   ]
  },
  {
   "cell_type": "code",
   "execution_count": 4,
   "id": "b2d6c941",
   "metadata": {},
   "outputs": [
    {
     "data": {
      "text/plain": [
       "Index(['Unnamed: 0', 'country', 'density', 'abbreviation', 'agricultural_land',\n",
       "       'land_area', 'armed_forces_size', 'birth_rate', 'calling_code',\n",
       "       'capital/major_city', 'co2-emissions', 'cpi', 'cpi_change',\n",
       "       'currency-code', 'fertility_rate', 'forested_area', 'gasoline_price',\n",
       "       'gdp', 'gross_primary_education_enrollment',\n",
       "       'gross_tertiary_education_enrollment', 'infant_mortality',\n",
       "       'largest_city', 'life_expectancy', 'maternal_mortality_ratio',\n",
       "       'minimum_wage', 'official_language', 'out_of_pocket_health_expenditure',\n",
       "       'physicians_per_thousand', 'population',\n",
       "       'population_labor_force_participation', 'tax_revenue', 'total_tax_rate',\n",
       "       'unemployment_rate', 'urban_population', 'latitude', 'longitude',\n",
       "       'continent'],\n",
       "      dtype='object')"
      ]
     },
     "execution_count": 4,
     "metadata": {},
     "output_type": "execute_result"
    }
   ],
   "source": [
    "df.columns"
   ]
  },
  {
   "cell_type": "markdown",
   "id": "38071e73",
   "metadata": {},
   "source": [
    "# Ejercicios intervalo de confianza\n",
    "\n",
    "Al igual que en el caso del ejercicio de la clase, piensa un motivo por el que sería interesante calcular estos intervalos de confianza para la extracción de insights.\n",
    "\n",
    "a. Intervalo de Confianza para la Esperanza de Vida Contexto: Trabajas en una organización de salud global y deseas estimar el intervalo de confianza al 95% para la esperanza de vida promedio de cada continente. Nota: Cuidado porque puede que os salgan algunos nulos, genera un código para que no salgan nulos en los intervalos de confianza.\n",
    "\n",
    "b.Intervalo de Confianza para el PIB Contexto: Eres una economista y quieres calcular el intervalo de confianza al 90% para el Producto Interno Bruto (PIB) de los continentes."
   ]
  },
  {
   "cell_type": "code",
   "execution_count": 8,
   "id": "8568a3bf",
   "metadata": {},
   "outputs": [
    {
     "data": {
      "text/plain": [
       "np.float64(72.27967914438503)"
      ]
     },
     "execution_count": 8,
     "metadata": {},
     "output_type": "execute_result"
    }
   ],
   "source": [
    "media = df[\"life_expectancy\"].mean()\n",
    "media"
   ]
  },
  {
   "cell_type": "code",
   "execution_count": 9,
   "id": "95403f15",
   "metadata": {},
   "outputs": [
    {
     "data": {
      "text/plain": [
       "array([64.5, 78.5, 76.7,  nan, 60.8, 76.9, 76.5, 74.9, 82.7, 81.6, 72.9,\n",
       "       73.8, 77.2, 72.3, 79.1, 74.2, 74.5, 61.5, 71.5, 71.2, 77.3, 69.3,\n",
       "       75.7, 61.2, 57.4, 72.8, 69.6, 58.9, 81.9, 52.8, 54. , 80. , 77. ,\n",
       "       77.1, 64.1, 64.3, 80.1, 78.1, 78.7, 80.8, 79. , 60.4, 81. , 66.6,\n",
       "       76.6, 73.9, 76.8, 71.8, 73.1, 58.4, 65.9, 78.2, 66.2, 67.3, 81.7,\n",
       "       82.5, 61.7, 73.6, 80.9, 63.8, 81.3, 72.4, 74.1, 58. , 69.8, 63.7,\n",
       "       75.1, 75.8, 69.4, 70.5, 82.3, 82.8, 82.9, 74.4, 84.2, 73.2, 66.3,\n",
       "       68.1, 75.4, 71.4, 67.6, 74.7, 78.9, 53.7, 72.7, 83. , 82.1, 66.7,\n",
       "       76. , 78.6, 65.2, 64.7, 75. , 67.8, 69.7, 60.2, 66.9, 63.4, 81.8,\n",
       "       74.3, 62. , 54.3, 72.1, 77.6, 67.1, 69.1, 78.3, 71.1, 68.7, 71.3,\n",
       "       76.1, 85.4, 70.2, 67.7, 75.5, 83.1, 57.1, 63.9, 82.6, 57.6, 83.3,\n",
       "       65.1, 71.6, 83.6, 70.9, 65. , 70.8, 73.4, 77.4, 63. , 77.8, 70.3,\n",
       "       75.3, 66.1, 63.5])"
      ]
     },
     "execution_count": 9,
     "metadata": {},
     "output_type": "execute_result"
    }
   ],
   "source": [
    "df[\"life_expectancy\"].unique()"
   ]
  },
  {
   "cell_type": "code",
   "execution_count": 13,
   "id": "729e0ecd",
   "metadata": {},
   "outputs": [
    {
     "data": {
      "text/plain": [
       "np.int64(8)"
      ]
     },
     "execution_count": 13,
     "metadata": {},
     "output_type": "execute_result"
    }
   ],
   "source": [
    "df[\"life_expectancy\"].isna().sum()"
   ]
  },
  {
   "cell_type": "code",
   "execution_count": 83,
   "id": "ec22fc3e",
   "metadata": {},
   "outputs": [],
   "source": [
    "df = df.dropna(subset=['continent'])"
   ]
  },
  {
   "cell_type": "code",
   "execution_count": 84,
   "id": "ec20e42a",
   "metadata": {},
   "outputs": [
    {
     "data": {
      "text/plain": [
       "np.int64(0)"
      ]
     },
     "execution_count": 84,
     "metadata": {},
     "output_type": "execute_result"
    }
   ],
   "source": [
    "df['continent'].isna().sum()"
   ]
  },
  {
   "cell_type": "code",
   "execution_count": 55,
   "id": "3abe4466",
   "metadata": {},
   "outputs": [],
   "source": [
    "df = df.dropna(subset=['life_expectancy'])\n"
   ]
  },
  {
   "cell_type": "code",
   "execution_count": 60,
   "id": "5e31db6b",
   "metadata": {},
   "outputs": [
    {
     "data": {
      "text/plain": [
       "np.int64(0)"
      ]
     },
     "execution_count": 60,
     "metadata": {},
     "output_type": "execute_result"
    }
   ],
   "source": [
    "df[\"life_expectancy\"].isna().sum()"
   ]
  },
  {
   "cell_type": "code",
   "execution_count": 76,
   "id": "7b005021",
   "metadata": {},
   "outputs": [
    {
     "data": {
      "text/plain": [
       "np.float64(0.5500948232007123)"
      ]
     },
     "execution_count": 76,
     "metadata": {},
     "output_type": "execute_result"
    }
   ],
   "source": [
    "error_standart = stats.sem(df[\"life_expectancy\"]) \n",
    "error_standart"
   ]
  },
  {
   "cell_type": "code",
   "execution_count": 29,
   "id": "4ae6651b",
   "metadata": {},
   "outputs": [],
   "source": [
    "nivel_confianza = 0.95"
   ]
  },
  {
   "cell_type": "code",
   "execution_count": 30,
   "id": "f5b4bc44",
   "metadata": {},
   "outputs": [],
   "source": [
    "grados_liberdad = len(df[\"life_expectancy\"]) - 1"
   ]
  },
  {
   "cell_type": "code",
   "execution_count": 31,
   "id": "69bf041a",
   "metadata": {},
   "outputs": [
    {
     "data": {
      "text/plain": [
       "np.float64(1.9728001139921347)"
      ]
     },
     "execution_count": 31,
     "metadata": {},
     "output_type": "execute_result"
    }
   ],
   "source": [
    "valor_critico = stats.t.ppf((1+nivel_confianza)/2, df=grados_liberdad)         # (degrees of freedom)\n",
    "valor_critico"
   ]
  },
  {
   "cell_type": "code",
   "execution_count": 32,
   "id": "e31beb33",
   "metadata": {},
   "outputs": [],
   "source": [
    "distancia = valor_critico * error_standart"
   ]
  },
  {
   "cell_type": "code",
   "execution_count": null,
   "id": "ef8eae40",
   "metadata": {},
   "outputs": [],
   "source": [
    "# objetivo es saber si esta campana es simetrica o no "
   ]
  },
  {
   "cell_type": "code",
   "execution_count": 33,
   "id": "9197b6a3",
   "metadata": {},
   "outputs": [],
   "source": [
    "limite_inf = media - distancia   # queremos cortar los extremos derecho y izquierdo de la campana\n",
    "limite_sup = media + distancia"
   ]
  },
  {
   "cell_type": "code",
   "execution_count": 34,
   "id": "624744a7",
   "metadata": {},
   "outputs": [
    {
     "name": "stdout",
     "output_type": "stream",
     "text": [
      "Nuestro intervalo es de 71.2 - 73.36\n"
     ]
    }
   ],
   "source": [
    "print(f\"Nuestro intervalo es de {np.round(limite_inf, 2)} - {np.round(limite_sup, 2)}\")\n",
    "\n",
    "# el intervalo de confianza para la esperanza de vida promedia del mundo"
   ]
  },
  {
   "cell_type": "code",
   "execution_count": 37,
   "id": "1ed42e45",
   "metadata": {},
   "outputs": [
    {
     "data": {
      "text/plain": [
       "continent\n",
       "Africa             63.725000\n",
       "Asia               73.781818\n",
       "Central America    74.690000\n",
       "Europe             79.202326\n",
       "North America      80.200000\n",
       "Oceania            71.125000\n",
       "South America      74.815385\n",
       "Name: life_expectancy, dtype: float64"
      ]
     },
     "execution_count": 37,
     "metadata": {},
     "output_type": "execute_result"
    }
   ],
   "source": [
    "df_count = df.groupby('continent')['life_expectancy'].mean()\n",
    "df_count"
   ]
  },
  {
   "cell_type": "code",
   "execution_count": null,
   "id": "5a5b971e",
   "metadata": {},
   "outputs": [],
   "source": [
    "error_afr = stats.sem(df_count[\"continent\"] == \"Africa\")"
   ]
  },
  {
   "cell_type": "code",
   "execution_count": 61,
   "id": "be0d8623",
   "metadata": {},
   "outputs": [],
   "source": [
    "\n",
    "def error_cont(cont):\n",
    "    for e in df: \n",
    "        filtered = df[df[\"continent\"] == cont]\n",
    "        return stats.sem(filtered[\"life_expectancy\"])\n"
   ]
  },
  {
   "cell_type": "code",
   "execution_count": 62,
   "id": "4aef6755",
   "metadata": {},
   "outputs": [
    {
     "data": {
      "text/plain": [
       "np.float64(0.8321675480660724)"
      ]
     },
     "execution_count": 62,
     "metadata": {},
     "output_type": "execute_result"
    }
   ],
   "source": [
    "error_cont(\"Africa\")"
   ]
  },
  {
   "cell_type": "code",
   "execution_count": 66,
   "id": "33c6c62e",
   "metadata": {},
   "outputs": [
    {
     "data": {
      "text/plain": [
       "{'Asia': np.float64(0.7228033919519603),\n",
       " 'Europe': np.float64(0.5522378551302907),\n",
       " 'Africa': np.float64(0.8321675480660724),\n",
       " 'Central America': np.float64(0.7879654013243284),\n",
       " 'South America': np.float64(0.8391728340246076),\n",
       " 'Oceania': np.float64(1.6935763217451287),\n",
       " 'North America': np.float64(1.7000000000000028)}"
      ]
     },
     "execution_count": 66,
     "metadata": {},
     "output_type": "execute_result"
    }
   ],
   "source": [
    "errores_por_continente = {cont: error_cont(cont) for cont in df[\"continent\"]}\n",
    "errores_por_continente"
   ]
  },
  {
   "cell_type": "code",
   "execution_count": null,
   "id": "fcdf95ed",
   "metadata": {},
   "outputs": [
    {
     "ename": "_IncompleteInputError",
     "evalue": "incomplete input (3480146929.py, line 8)",
     "output_type": "error",
     "traceback": [
      "  \u001b[36mCell\u001b[39m\u001b[36m \u001b[39m\u001b[32mIn[87]\u001b[39m\u001b[32m, line 8\u001b[39m\n\u001b[31m    \u001b[39m\n    ^\n\u001b[31m_IncompleteInputError\u001b[39m\u001b[31m:\u001b[39m incomplete input\n"
     ]
    }
   ],
   "source": [
    "# una funcion que inclua todo: el error, el nivel de confianca, valor critico.. \n",
    "# para cualquier columna, la que pasemos cuando llamemos a la funcion\n",
    "# \n",
    "def intervalo(columna, nivel_confianza=0.95):  \n",
    "    pass\n",
    "    # media de columna\n",
    "    # error \n",
    "    # lo necesario para calucular el intervalo de confianza \n",
    "\n",
    "\n",
    "    # despues unique a continente y aplicar en buckle"
   ]
  },
  {
   "cell_type": "code",
   "execution_count": null,
   "id": "aa76d0f2",
   "metadata": {},
   "outputs": [],
   "source": [
    "# despues eligir el continente + life expentacy "
   ]
  },
  {
   "cell_type": "code",
   "execution_count": null,
   "id": "b6aa951b",
   "metadata": {},
   "outputs": [],
   "source": []
  },
  {
   "cell_type": "code",
   "execution_count": null,
   "id": "083e3790",
   "metadata": {},
   "outputs": [],
   "source": []
  },
  {
   "cell_type": "code",
   "execution_count": 58,
   "id": "c28d4bc8",
   "metadata": {},
   "outputs": [],
   "source": [
    "def error_cont(cont):\n",
    "    filtered = df[df[\"continent\"] == cont]\n",
    "    return stats.sem(filtered[\"life_expectancy\"])\n"
   ]
  },
  {
   "cell_type": "code",
   "execution_count": 59,
   "id": "f9cab3bd",
   "metadata": {},
   "outputs": [
    {
     "data": {
      "text/plain": [
       "np.float64(0.8321675480660724)"
      ]
     },
     "execution_count": 59,
     "metadata": {},
     "output_type": "execute_result"
    }
   ],
   "source": [
    "error_cont(\"Africa\")"
   ]
  },
  {
   "cell_type": "code",
   "execution_count": null,
   "id": "e8aa9b14",
   "metadata": {},
   "outputs": [],
   "source": [
    "error_cont(\"Asia\")"
   ]
  },
  {
   "cell_type": "markdown",
   "id": "23072c43",
   "metadata": {},
   "source": [
    "\n",
    "## Prueba de Hipótesis\n",
    "\n",
    "a. Test de Normalidad :Verifica si la variable \"life_expectancy\" (esperanza de vida) sigue una distribución normal usando el test de Shapiro-Wilk o Kolmogorov-Smirnov según el tamaño de la muestra.\n",
    "\n",
    "b. Test de Igualdad de Varianzas: Comprueba si la varianza del PIB (GDP) es igual en países de Europa y África usando el test de Bartlett (si los datos son normales) o Levene (si no son normales).\n",
    "\n",
    "c. Comparación de Medias (t-Test de Student o Mann-Whitney U): ¿La esperanza de vida difiere significativamente entre países de Europa y Asia?\n",
    "\n",
    "d. Prueba de Hipótesis sobre Proporciones: ¿Hay una diferencia significativa en la tasa de desempleo entre los países de Europa y América?\n",
    "\n",
    "e. Comparación de Medias en Precios de Gasolina : ¿El precio de la gasolina (gasoline_price) es significativamente diferente entre países con un PIB alto y PIB bajo?"
   ]
  },
  {
   "cell_type": "code",
   "execution_count": 69,
   "id": "cb521d7e",
   "metadata": {},
   "outputs": [
    {
     "data": {
      "text/plain": [
       "continent\n",
       "Africa             63.725000\n",
       "Asia               73.781818\n",
       "Central America    74.690000\n",
       "Europe             79.202326\n",
       "North America      80.200000\n",
       "Oceania            71.125000\n",
       "South America      74.815385\n",
       "Name: life_expectancy, dtype: float64"
      ]
     },
     "execution_count": 69,
     "metadata": {},
     "output_type": "execute_result"
    }
   ],
   "source": [
    "df_count = df.groupby('continent')['life_expectancy'].mean()\n",
    "df_count"
   ]
  },
  {
   "cell_type": "code",
   "execution_count": null,
   "id": "869a96ef",
   "metadata": {},
   "outputs": [],
   "source": [
    "def error_cont(cont):\n",
    "    for e in df_count:\n",
    "        result = stats.sem(df_count[df_count['continent']==cont])\n",
    "        return result"
   ]
  },
  {
   "cell_type": "code",
   "execution_count": 90,
   "id": "12afe637",
   "metadata": {},
   "outputs": [
    {
     "name": "stdout",
     "output_type": "stream",
     "text": [
      "63.724999999999994\n",
      "73.78181818181818\n",
      "74.69\n",
      "79.20232558139534\n",
      "80.2\n",
      "71.125\n",
      "74.81538461538462\n"
     ]
    }
   ],
   "source": [
    "for e in df_count:\n",
    "    print(e)"
   ]
  }
 ],
 "metadata": {
  "kernelspec": {
   "display_name": "Python 3",
   "language": "python",
   "name": "python3"
  },
  "language_info": {
   "codemirror_mode": {
    "name": "ipython",
    "version": 3
   },
   "file_extension": ".py",
   "mimetype": "text/x-python",
   "name": "python",
   "nbconvert_exporter": "python",
   "pygments_lexer": "ipython3",
   "version": "3.13.3"
  }
 },
 "nbformat": 4,
 "nbformat_minor": 5
}
