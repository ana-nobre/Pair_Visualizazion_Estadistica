{
 "cells": [
  {
   "cell_type": "code",
   "execution_count": 2,
   "id": "9d4977dd",
   "metadata": {},
   "outputs": [],
   "source": [
    "# primero nuestras librerias!\n",
    "\n",
    "# Tratamiento de datos\n",
    "# -----------------------------------------------------------------------\n",
    "import pandas as pd\n",
    "\n",
    "# Visualización\n",
    "# ------------------------------------------------------------------------------\n",
    "import matplotlib.pyplot as plt\n",
    "import seaborn as sns\n",
    "\n",
    "# Configuración\n",
    "# -----------------------------------------------------------------------\n",
    "pd.set_option('display.max_columns', None) # para poder visualizar todas las columnas de los DataFrames"
   ]
  },
  {
   "cell_type": "code",
   "execution_count": 3,
   "id": "fc84d133",
   "metadata": {},
   "outputs": [],
   "source": [
    "# lo primero que hacemos es cargar el dataframe que vamos a usar para esta lección\n",
    "df = pd.read_csv(\"world_data_full_apply_nulos.csv\") "
   ]
  },
  {
   "cell_type": "code",
   "execution_count": 4,
   "id": "8a84ccde",
   "metadata": {},
   "outputs": [
    {
     "data": {
      "text/plain": [
       "Index(['Unnamed: 0', 'country', 'density', 'abbreviation', 'agricultural_land',\n",
       "       'land_area', 'armed_forces_size', 'birth_rate', 'calling_code',\n",
       "       'capital/major_city', 'co2-emissions', 'cpi', 'cpi_change',\n",
       "       'currency-code', 'fertility_rate', 'forested_area', 'gasoline_price',\n",
       "       'gdp', 'gross_primary_education_enrollment',\n",
       "       'gross_tertiary_education_enrollment', 'infant_mortality',\n",
       "       'largest_city', 'life_expectancy', 'maternal_mortality_ratio',\n",
       "       'minimum_wage', 'official_language', 'out_of_pocket_health_expenditure',\n",
       "       'physicians_per_thousand', 'population',\n",
       "       'population_labor_force_participation', 'tax_revenue', 'total_tax_rate',\n",
       "       'unemployment_rate', 'urban_population', 'latitude', 'longitude',\n",
       "       'continent'],\n",
       "      dtype='object')"
      ]
     },
     "execution_count": 4,
     "metadata": {},
     "output_type": "execute_result"
    }
   ],
   "source": [
    "df.columns"
   ]
  },
  {
   "cell_type": "markdown",
   "id": "5f62519a",
   "metadata": {},
   "source": [
    "1. ¿Cuál es el continente con la mayor cantidad de países en el conjunto de datos? Proporciona el porcentaje de países en ese continente."
   ]
  },
  {
   "cell_type": "code",
   "execution_count": 24,
   "id": "4c5f3610",
   "metadata": {},
   "outputs": [
    {
     "data": {
      "text/plain": [
       "continent\n",
       "Africa             53\n",
       "Asia               45\n",
       "Central America    20\n",
       "Europe             47\n",
       "North America       2\n",
       "Oceania            14\n",
       "South America      13\n",
       "Name: country, dtype: int64"
      ]
     },
     "execution_count": 24,
     "metadata": {},
     "output_type": "execute_result"
    }
   ],
   "source": [
    "continent_cantidad = df.groupby('continent')['country'].count()\n",
    "continent_cantidad"
   ]
  },
  {
   "cell_type": "code",
   "execution_count": 25,
   "id": "2da4771d",
   "metadata": {},
   "outputs": [
    {
     "data": {
      "text/plain": [
       "np.int64(194)"
      ]
     },
     "execution_count": 25,
     "metadata": {},
     "output_type": "execute_result"
    }
   ],
   "source": [
    "continent_cantidad.sum()"
   ]
  },
  {
   "cell_type": "code",
   "execution_count": 63,
   "id": "4033a35d",
   "metadata": {},
   "outputs": [
    {
     "data": {
      "text/plain": [
       "continent\n",
       "Africa             27.32\n",
       "Asia               23.20\n",
       "Central America    10.31\n",
       "Europe             24.23\n",
       "North America       1.03\n",
       "Oceania             7.22\n",
       "South America       6.70\n",
       "Name: country, dtype: float64"
      ]
     },
     "execution_count": 63,
     "metadata": {},
     "output_type": "execute_result"
    }
   ],
   "source": [
    "percentaje = round(continent_cantidad / continent_cantidad.sum() * 100, 2)\n",
    "percentaje"
   ]
  },
  {
   "cell_type": "markdown",
   "id": "9a267022",
   "metadata": {},
   "source": [
    "Reseteamos index para transformar la serie en dataframe para que muestre la informacion que queremos exportar a la grafica"
   ]
  },
  {
   "cell_type": "code",
   "execution_count": 64,
   "id": "cef1e8cc",
   "metadata": {},
   "outputs": [
    {
     "data": {
      "text/html": [
       "<div>\n",
       "<style scoped>\n",
       "    .dataframe tbody tr th:only-of-type {\n",
       "        vertical-align: middle;\n",
       "    }\n",
       "\n",
       "    .dataframe tbody tr th {\n",
       "        vertical-align: top;\n",
       "    }\n",
       "\n",
       "    .dataframe thead th {\n",
       "        text-align: right;\n",
       "    }\n",
       "</style>\n",
       "<table border=\"1\" class=\"dataframe\">\n",
       "  <thead>\n",
       "    <tr style=\"text-align: right;\">\n",
       "      <th></th>\n",
       "      <th>continent</th>\n",
       "      <th>country</th>\n",
       "    </tr>\n",
       "  </thead>\n",
       "  <tbody>\n",
       "    <tr>\n",
       "      <th>0</th>\n",
       "      <td>Africa</td>\n",
       "      <td>27.32</td>\n",
       "    </tr>\n",
       "    <tr>\n",
       "      <th>3</th>\n",
       "      <td>Europe</td>\n",
       "      <td>24.23</td>\n",
       "    </tr>\n",
       "    <tr>\n",
       "      <th>1</th>\n",
       "      <td>Asia</td>\n",
       "      <td>23.20</td>\n",
       "    </tr>\n",
       "    <tr>\n",
       "      <th>2</th>\n",
       "      <td>Central America</td>\n",
       "      <td>10.31</td>\n",
       "    </tr>\n",
       "    <tr>\n",
       "      <th>5</th>\n",
       "      <td>Oceania</td>\n",
       "      <td>7.22</td>\n",
       "    </tr>\n",
       "    <tr>\n",
       "      <th>6</th>\n",
       "      <td>South America</td>\n",
       "      <td>6.70</td>\n",
       "    </tr>\n",
       "    <tr>\n",
       "      <th>4</th>\n",
       "      <td>North America</td>\n",
       "      <td>1.03</td>\n",
       "    </tr>\n",
       "  </tbody>\n",
       "</table>\n",
       "</div>"
      ],
      "text/plain": [
       "         continent  country\n",
       "0           Africa    27.32\n",
       "3           Europe    24.23\n",
       "1             Asia    23.20\n",
       "2  Central America    10.31\n",
       "5          Oceania     7.22\n",
       "6    South America     6.70\n",
       "4    North America     1.03"
      ]
     },
     "execution_count": 64,
     "metadata": {},
     "output_type": "execute_result"
    }
   ],
   "source": [
    "percentaje = percentaje.reset_index().sort_values('country', ascending=False)\n",
    "percentaje"
   ]
  },
  {
   "cell_type": "code",
   "execution_count": 67,
   "id": "db9ebaaa",
   "metadata": {},
   "outputs": [
    {
     "data": {
      "image/png": "[encoded data removed]",
      "text/plain": [
       "<Figure size 640x480 with 1 Axes>"
      ]
     },
     "metadata": {},
     "output_type": "display_data"
    }
   ],
   "source": [
    "sns.barplot(data=percentaje, y='continent', x='country')\n",
    "plt.title(\"Continentes\");"
   ]
  },
  {
   "cell_type": "markdown",
   "id": "b0d575e7",
   "metadata": {},
   "source": [
    "2. ¿Cuáles son los 10 países con la mayor área forestal?"
   ]
  },
  {
   "cell_type": "code",
   "execution_count": null,
   "id": "a141bfc0",
   "metadata": {},
   "outputs": [],
   "source": [
    "# Numerico \n",
    "# Bivariado pues compara dos variables: paises y area forestal \n",
    "# Barplot: Muestra la relación entre una variable categórica y una variable numérica mediante barras\n",
    "# boxplot: Muestra la distribución de una variable numérica para cada categoría en una variable categórica.    |"
   ]
  },
  {
   "cell_type": "code",
   "execution_count": 69,
   "id": "bede24bf",
   "metadata": {},
   "outputs": [
    {
     "data": {
      "text/plain": [
       "0            Afghanistan\n",
       "1                Albania\n",
       "2                Algeria\n",
       "3                Andorra\n",
       "4                 Angola\n",
       "5    Antigua and Barbuda\n",
       "6              Argentina\n",
       "7                Armenia\n",
       "8              Australia\n",
       "9                Austria\n",
       "Name: country, dtype: object"
      ]
     },
     "execution_count": 69,
     "metadata": {},
     "output_type": "execute_result"
    }
   ],
   "source": [
    "paises = df['country'].head(10)\n",
    "paises"
   ]
  },
  {
   "cell_type": "code",
   "execution_count": null,
   "id": "abbe62e0",
   "metadata": {},
   "outputs": [],
   "source": [
    "# nuestro codigo:\n",
    "paises = df.groupby('country')['forested_area'].sum().sort_values('forested_area', ascending=False)\n",
    "paises\n",
    "\n",
    "# df.groupby('country')['forested_area'].sum()` devuelve una **Serie**, no un **DataFrame**.\n",
    "# El método `sort_values()` aplicado a una **Serie** no acepta el nombre de la columna como argumento, \n",
    "# porque una Serie **no tiene columnas** — solo tiene un **índice** (`country`) y los **valores** (`forested_area`)."
   ]
  },
  {
   "cell_type": "code",
   "execution_count": 77,
   "id": "cee6edc3",
   "metadata": {},
   "outputs": [
    {
     "data": {
      "text/plain": [
       "country\n",
       "Suriname                          98.3\n",
       "Federated States of Micronesia    91.9\n",
       "Gabon                             90.0\n",
       "Seychelles                        88.4\n",
       "Palau                             87.6\n",
       "Guyana                            83.9\n",
       "Laos                              82.1\n",
       "Solomon Islands                   77.9\n",
       "Papua New Guinea                  74.1\n",
       "Finland                           73.1\n",
       "Name: forested_area, dtype: float64"
      ]
     },
     "execution_count": 77,
     "metadata": {},
     "output_type": "execute_result"
    }
   ],
   "source": [
    "# series\n",
    "paises = df.groupby('country')['forested_area'].sum().sort_values(ascending=False)\n",
    "top_10 = paises.head(10)\n",
    "top_10\n"
   ]
  },
  {
   "cell_type": "code",
   "execution_count": 78,
   "id": "7411af0c",
   "metadata": {},
   "outputs": [
    {
     "data": {
      "text/html": [
       "<div>\n",
       "<style scoped>\n",
       "    .dataframe tbody tr th:only-of-type {\n",
       "        vertical-align: middle;\n",
       "    }\n",
       "\n",
       "    .dataframe tbody tr th {\n",
       "        vertical-align: top;\n",
       "    }\n",
       "\n",
       "    .dataframe thead th {\n",
       "        text-align: right;\n",
       "    }\n",
       "</style>\n",
       "<table border=\"1\" class=\"dataframe\">\n",
       "  <thead>\n",
       "    <tr style=\"text-align: right;\">\n",
       "      <th></th>\n",
       "      <th>country</th>\n",
       "      <th>forested_area</th>\n",
       "    </tr>\n",
       "  </thead>\n",
       "  <tbody>\n",
       "    <tr>\n",
       "      <th>164</th>\n",
       "      <td>Suriname</td>\n",
       "      <td>98.3</td>\n",
       "    </tr>\n",
       "    <tr>\n",
       "      <th>56</th>\n",
       "      <td>Federated States of Micronesia</td>\n",
       "      <td>91.9</td>\n",
       "    </tr>\n",
       "    <tr>\n",
       "      <th>60</th>\n",
       "      <td>Gabon</td>\n",
       "      <td>90.0</td>\n",
       "    </tr>\n",
       "    <tr>\n",
       "      <th>151</th>\n",
       "      <td>Seychelles</td>\n",
       "      <td>88.4</td>\n",
       "    </tr>\n",
       "    <tr>\n",
       "      <th>128</th>\n",
       "      <td>Palau</td>\n",
       "      <td>87.6</td>\n",
       "    </tr>\n",
       "    <tr>\n",
       "      <th>69</th>\n",
       "      <td>Guyana</td>\n",
       "      <td>83.9</td>\n",
       "    </tr>\n",
       "    <tr>\n",
       "      <th>89</th>\n",
       "      <td>Laos</td>\n",
       "      <td>82.1</td>\n",
       "    </tr>\n",
       "    <tr>\n",
       "      <th>156</th>\n",
       "      <td>Solomon Islands</td>\n",
       "      <td>77.9</td>\n",
       "    </tr>\n",
       "    <tr>\n",
       "      <th>131</th>\n",
       "      <td>Papua New Guinea</td>\n",
       "      <td>74.1</td>\n",
       "    </tr>\n",
       "    <tr>\n",
       "      <th>58</th>\n",
       "      <td>Finland</td>\n",
       "      <td>73.1</td>\n",
       "    </tr>\n",
       "  </tbody>\n",
       "</table>\n",
       "</div>"
      ],
      "text/plain": [
       "                            country  forested_area\n",
       "164                        Suriname           98.3\n",
       "56   Federated States of Micronesia           91.9\n",
       "60                            Gabon           90.0\n",
       "151                      Seychelles           88.4\n",
       "128                           Palau           87.6\n",
       "69                           Guyana           83.9\n",
       "89                             Laos           82.1\n",
       "156                 Solomon Islands           77.9\n",
       "131                Papua New Guinea           74.1\n",
       "58                          Finland           73.1"
      ]
     },
     "execution_count": 78,
     "metadata": {},
     "output_type": "execute_result"
    }
   ],
   "source": [
    "# data frame\n",
    "paises = df.groupby('country', as_index=False)['forested_area'].sum()\n",
    "paises = paises.sort_values(by='forested_area', ascending=False)\n",
    "top_10 = paises.head(10)\n",
    "top_10\n"
   ]
  },
  {
   "cell_type": "code",
   "execution_count": null,
   "id": "43024fb8",
   "metadata": {},
   "outputs": [],
   "source": []
  },
  {
   "cell_type": "markdown",
   "id": "1ad4ba02",
   "metadata": {},
   "source": [
    "3. ¿Cómo se distribuye la densidad de población entre los países?"
   ]
  },
  {
   "cell_type": "markdown",
   "id": "6549281a",
   "metadata": {},
   "source": [
    "4. ¿Existe una relación entre el PIB y la tasa de desempleo de los países?"
   ]
  },
  {
   "cell_type": "markdown",
   "id": "645e2975",
   "metadata": {},
   "source": [
    "5. ¿Cómo se relacionan la tasa de mortalidad infantil y la esperanza de vida?"
   ]
  },
  {
   "cell_type": "markdown",
   "id": "6c0d42d1",
   "metadata": {},
   "source": [
    "Debes decidir que gráfica es más adecuada. \n",
    "\n",
    "Puedes utilizar cualquier gráfica vista hasta el momento: gráficas para variables numéricas, categóricas o relación entre ambas.\n",
    "\n",
    "Requisitos que deben cumplir las gráficas (en caso de usar alguna de ellas):\n",
    "1. Todas deben llevar título.\n",
    "2. Los nombres de los ejes deben estar en castellano.\n",
    "3. En los scatterplot los puntos deben tener un tamaño de 2.\n",
    "4. En los scatterplot los puntos deben tener un color diferente al azul.\n",
    "5. En los barplot las barras siempre tienen que estar ordenadas de mayor a menor.\n",
    "6. En los barplot y countplot las barras tienen que tener un color diferente a los que vienen por defecto.\n",
    "7. En los pieplot siempre tenemos que añadir la etiqueta de a que % corresponde cada quesito."
   ]
  },
  {
   "cell_type": "markdown",
   "id": "8c3f2fcf",
   "metadata": {},
   "source": [
    "📊 Tabla de Gráficos com Seaborn e Matplotlib"
   ]
  },
  {
   "cell_type": "code",
   "execution_count": null,
   "id": "fe455f5c",
   "metadata": {},
   "outputs": [],
   "source": [
    "# pedi para Chatgpt hacer una tabla con la info que Cesar nos dijo"
   ]
  },
  {
   "cell_type": "markdown",
   "id": "286e11a1",
   "metadata": {},
   "source": [
    "| Gráfico         | Tipo de variable           | Nº de variables | Uso típico                                                  | Función Seaborn / Matplotlib     |\n",
    "|----------------|----------------------------|------------------|--------------------------------------------------------------|----------------------------------|\n",
    "| **Histograma** | Numérica (cuantitativa)    | Univariada       | Distribución de frecuencia de una variable numérica          | `sns.histplot()`                 |\n",
    "| **Countplot**  | Categórica                 | Univariada       | Conteo de ocurrencias por categoría                          | `sns.countplot()`                |\n",
    "| **Barplot**    | Categórica + Numérica      | Bivariada        | Comparar medias (o sumas) de una variable numérica por grupo | `sns.barplot()`                  |\n",
    "| **Boxplot**    | Numérica + Categórica      | Bivariada        | Distribución, mediana y valores atípicos por categoría       | `sns.boxplot()`                  |\n",
    "| **Scatterplot**| Numérica + Numérica        | Bivariada        | Relación entre dos variables numéricas (correlación)         | `sns.scatterplot()`              |\n",
    "| **Gráfico de Tarta** | Categórica            | Univariada       | Proporción relativa entre categorías                        | `plt.pie()` (con Matplotlib)     |\n"
   ]
  }
 ],
 "metadata": {
  "kernelspec": {
   "display_name": "Python 3",
   "language": "python",
   "name": "python3"
  },
  "language_info": {
   "codemirror_mode": {
    "name": "ipython",
    "version": 3
   },
   "file_extension": ".py",
   "mimetype": "text/x-python",
   "name": "python",
   "nbconvert_exporter": "python",
   "pygments_lexer": "ipython3",
   "version": "3.13.3"
  }
 },
 "nbformat": 4,
 "nbformat_minor": 5
}
