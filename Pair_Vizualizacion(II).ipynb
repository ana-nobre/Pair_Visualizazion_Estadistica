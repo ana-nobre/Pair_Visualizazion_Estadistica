{
 "cells": [
  {
   "cell_type": "code",
   "execution_count": null,
   "id": "fc84d133",
   "metadata": {
    "vscode": {
     "languageId": "plaintext"
    }
   },
   "outputs": [],
   "source": []
  },
  {
   "cell_type": "markdown",
   "id": "6c0d42d1",
   "metadata": {},
   "source": [
    "Debes decidir que gráfica es más adecuada. \n",
    "\n",
    "Puedes utilizar cualquier gráfica vista hasta el momento: gráficas para variables numéricas, categóricas o relación entre ambas.\n",
    "\n",
    "Requisitos que deben cumplir las gráficas (en caso de usar alguna de ellas):\n",
    "1. Todas deben llevar título.\n",
    "2. Los nombres de los ejes deben estar en castellano.\n",
    "3. En los scatterplot los puntos deben tener un tamaño de 2.\n",
    "4. En los scatterplot los puntos deben tener un color diferente al azul.\n",
    "5. En los barplot las barras siempre tienen que estar ordenadas de mayor a menor.\n",
    "6. En los barplot y countplot las barras tienen que tener un color diferente a los que vienen por defecto.\n",
    "7. En los pieplot siempre tenemos que añadir la etiqueta de a que % corresponde cada quesito."
   ]
  },
  {
   "cell_type": "markdown",
   "id": "5f62519a",
   "metadata": {},
   "source": [
    "1. ¿Cuál es el continente con la mayor cantidad de países en el conjunto de datos? Proporciona el porcentaje de países en ese continente."
   ]
  },
  {
   "cell_type": "markdown",
   "id": "b0d575e7",
   "metadata": {},
   "source": [
    "2. ¿Cuáles son los 10 países con la mayor área forestal?"
   ]
  },
  {
   "cell_type": "markdown",
   "id": "1ad4ba02",
   "metadata": {},
   "source": [
    "3. ¿Cómo se distribuye la densidad de población entre los países?"
   ]
  },
  {
   "cell_type": "markdown",
   "id": "6549281a",
   "metadata": {},
   "source": [
    "4. ¿Existe una relación entre el PIB y la tasa de desempleo de los países?"
   ]
  },
  {
   "cell_type": "markdown",
   "id": "645e2975",
   "metadata": {},
   "source": [
    "5. ¿Cómo se relacionan la tasa de mortalidad infantil y la esperanza de vida?"
   ]
  }
 ],
 "metadata": {
  "language_info": {
   "name": "python"
  }
 },
 "nbformat": 4,
 "nbformat_minor": 5
}
