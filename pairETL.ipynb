{
 "cells": [
  {
   "cell_type": "code",
   "execution_count": 6,
   "id": "fa8eaf74",
   "metadata": {},
   "outputs": [],
   "source": [
    "import pandas as pd\n",
    "import numpy as np\n",
    "import matplotlib.pyplot as plt\n",
    "import seaborn as sns\n",
    "\n",
    "from scipy.stats import shapiro, kstest\n",
    "\n",
    "pd.set_option('display.max_columns',None)\n",
    "\n",
    "import warnings\n",
    "warnings.filterwarnings(\"ignore\")"
   ]
  },
  {
   "cell_type": "markdown",
   "id": "6295fd34",
   "metadata": {},
   "source": [
    "Lectura de la Información:\n",
    "\n",
    "Leer los archivos CSV (ventas.csv, productos.csv, clientes.csv).\n",
    "\n",
    "Explorar los conjuntos de datos para comprender su estructura, columnas, tipos de datos, etc."
   ]
  },
  {
   "cell_type": "code",
   "execution_count": 7,
   "id": "ae450ded",
   "metadata": {},
   "outputs": [
    {
     "data": {
      "text/html": [
       "<div>\n",
       "<style scoped>\n",
       "    .dataframe tbody tr th:only-of-type {\n",
       "        vertical-align: middle;\n",
       "    }\n",
       "\n",
       "    .dataframe tbody tr th {\n",
       "        vertical-align: top;\n",
       "    }\n",
       "\n",
       "    .dataframe thead th {\n",
       "        text-align: right;\n",
       "    }\n",
       "</style>\n",
       "<table border=\"1\" class=\"dataframe\">\n",
       "  <thead>\n",
       "    <tr style=\"text-align: right;\">\n",
       "      <th></th>\n",
       "      <th>ID_Cliente</th>\n",
       "      <th>ID_Producto</th>\n",
       "      <th>Fecha_Venta</th>\n",
       "      <th>Cantidad</th>\n",
       "      <th>Total</th>\n",
       "    </tr>\n",
       "  </thead>\n",
       "  <tbody>\n",
       "    <tr>\n",
       "      <th>0</th>\n",
       "      <td>723</td>\n",
       "      <td>A1</td>\n",
       "      <td>2023-11-22</td>\n",
       "      <td>2</td>\n",
       "      <td>17.98</td>\n",
       "    </tr>\n",
       "    <tr>\n",
       "      <th>1</th>\n",
       "      <td>498</td>\n",
       "      <td>C3</td>\n",
       "      <td>2023-11-21</td>\n",
       "      <td>1</td>\n",
       "      <td>5.49</td>\n",
       "    </tr>\n",
       "  </tbody>\n",
       "</table>\n",
       "</div>"
      ],
      "text/plain": [
       "   ID_Cliente ID_Producto Fecha_Venta  Cantidad  Total\n",
       "0         723          A1  2023-11-22         2  17.98\n",
       "1         498          C3  2023-11-21         1   5.49"
      ]
     },
     "execution_count": 7,
     "metadata": {},
     "output_type": "execute_result"
    }
   ],
   "source": [
    "df = pd.read_csv(\"ventas.csv\")\n",
    "df.head(2)"
   ]
  },
  {
   "cell_type": "code",
   "execution_count": 8,
   "id": "3cbcda6d",
   "metadata": {},
   "outputs": [],
   "source": [
    "# df2 = pd.read_csv(\"productos.csv\",index_col=0)  #esto falla , lo vemos un poco más abajo. "
   ]
  },
  {
   "cell_type": "code",
   "execution_count": 9,
   "id": "53eab234",
   "metadata": {},
   "outputs": [
    {
     "data": {
      "text/html": [
       "<div>\n",
       "<style scoped>\n",
       "    .dataframe tbody tr th:only-of-type {\n",
       "        vertical-align: middle;\n",
       "    }\n",
       "\n",
       "    .dataframe tbody tr th {\n",
       "        vertical-align: top;\n",
       "    }\n",
       "\n",
       "    .dataframe thead th {\n",
       "        text-align: right;\n",
       "    }\n",
       "</style>\n",
       "<table border=\"1\" class=\"dataframe\">\n",
       "  <thead>\n",
       "    <tr style=\"text-align: right;\">\n",
       "      <th></th>\n",
       "      <th>id</th>\n",
       "      <th>first_name</th>\n",
       "      <th>last_name</th>\n",
       "      <th>email</th>\n",
       "      <th>gender</th>\n",
       "      <th>City</th>\n",
       "      <th>Country</th>\n",
       "      <th>Address</th>\n",
       "    </tr>\n",
       "  </thead>\n",
       "  <tbody>\n",
       "    <tr>\n",
       "      <th>0</th>\n",
       "      <td>1</td>\n",
       "      <td>Cheri</td>\n",
       "      <td>Dunsmore</td>\n",
       "      <td>cdunsmore0@instagram.com</td>\n",
       "      <td>Female</td>\n",
       "      <td>Palma De Mallorca</td>\n",
       "      <td>Spain</td>\n",
       "      <td>076 Rockefeller Crossing</td>\n",
       "    </tr>\n",
       "    <tr>\n",
       "      <th>1</th>\n",
       "      <td>2</td>\n",
       "      <td>Hunt</td>\n",
       "      <td>Bartomeu</td>\n",
       "      <td>hbartomeu1@nsw.gov.au</td>\n",
       "      <td>Male</td>\n",
       "      <td>Lugo</td>\n",
       "      <td>Spain</td>\n",
       "      <td>0046 Utah Junction</td>\n",
       "    </tr>\n",
       "  </tbody>\n",
       "</table>\n",
       "</div>"
      ],
      "text/plain": [
       "   id first_name last_name                     email  gender  \\\n",
       "0   1      Cheri  Dunsmore  cdunsmore0@instagram.com  Female   \n",
       "1   2       Hunt  Bartomeu     hbartomeu1@nsw.gov.au    Male   \n",
       "\n",
       "                City Country                   Address  \n",
       "0  Palma De Mallorca   Spain  076 Rockefeller Crossing  \n",
       "1               Lugo   Spain        0046 Utah Junction  "
      ]
     },
     "execution_count": 9,
     "metadata": {},
     "output_type": "execute_result"
    }
   ],
   "source": [
    "df3 = pd.read_csv(\"clientes.csv\")\n",
    "df3.head(2)"
   ]
  },
  {
   "cell_type": "code",
   "execution_count": 10,
   "id": "dd56a3b2",
   "metadata": {},
   "outputs": [],
   "source": [
    "import csv\n",
    "\n",
    "input_file = \"productos.csv\"\n",
    "output_file = \"productos_corregido.csv\"\n",
    "\n",
    "with open(input_file, \"r\", encoding=\"utf-8\") as infile, open(output_file, \"w\", encoding=\"utf-8\", newline=\"\") as outfile:\n",
    "    reader = csv.reader(infile)\n",
    "    writer = csv.writer(outfile, quoting=csv.QUOTE_MINIMAL)\n",
    "\n",
    "    for i, row in enumerate(reader):\n",
    "        if i == 0:\n",
    "            writer.writerow(row)  # encabezado\n",
    "            expected_columns = len(row)\n",
    "        else:\n",
    "            # Si hay más columnas de las esperadas, las últimas las juntamos como descripción\n",
    "            if len(row) > expected_columns:\n",
    "                fixed_row = row[:expected_columns - 1]\n",
    "                descripcion = \",\".join(row[expected_columns - 1:])\n",
    "                fixed_row.append(descripcion.strip())\n",
    "                writer.writerow(fixed_row)\n",
    "            else:\n",
    "                writer.writerow(row)"
   ]
  },
  {
   "cell_type": "code",
   "execution_count": 11,
   "id": "76cfb5ab",
   "metadata": {},
   "outputs": [],
   "source": [
    "df4 = pd.read_csv(\"productos_corregido.csv\",index_col=0)"
   ]
  },
  {
   "cell_type": "code",
   "execution_count": 12,
   "id": "449dc0ce",
   "metadata": {},
   "outputs": [
    {
     "data": {
      "text/html": [
       "<div>\n",
       "<style scoped>\n",
       "    .dataframe tbody tr th:only-of-type {\n",
       "        vertical-align: middle;\n",
       "    }\n",
       "\n",
       "    .dataframe tbody tr th {\n",
       "        vertical-align: top;\n",
       "    }\n",
       "\n",
       "    .dataframe thead th {\n",
       "        text-align: right;\n",
       "    }\n",
       "</style>\n",
       "<table border=\"1\" class=\"dataframe\">\n",
       "  <thead>\n",
       "    <tr style=\"text-align: right;\">\n",
       "      <th></th>\n",
       "    </tr>\n",
       "    <tr>\n",
       "      <th>ID;Nombre_Producto;Categoría;Precio;Origen;Descripción</th>\n",
       "    </tr>\n",
       "  </thead>\n",
       "  <tbody>\n",
       "    <tr>\n",
       "      <th>A1;Pizza Margherita;Platos Preparados;8.99;Italia;Clásica pizza italiana con tomate, mozzarella fresca y albahaca.</th>\n",
       "    </tr>\n",
       "    <tr>\n",
       "      <th>B2;Risotto de Champiñones;Platos Preparados;6.75;Italia;Risotto cremoso con champiñones frescos, una delicia italiana para disfrutar en casa.</th>\n",
       "    </tr>\n",
       "    <tr>\n",
       "      <th>C3;Tiramisú;Postres;5.49;Italia;Postre clásico italiano con capas de bizcocho de café, mascarpone y cacao en polvo.</th>\n",
       "    </tr>\n",
       "    <tr>\n",
       "      <th>D4;Panettone;Repostería;10.99;Italia;Pan dulce navideño italiano con frutas confitadas y pasas, un regalo tradicional en Italia.</th>\n",
       "    </tr>\n",
       "  </tbody>\n",
       "</table>\n",
       "</div>"
      ],
      "text/plain": [
       "Empty DataFrame\n",
       "Columns: []\n",
       "Index: [A1;Pizza Margherita;Platos Preparados;8.99;Italia;Clásica pizza italiana con tomate, mozzarella fresca y albahaca., B2;Risotto de Champiñones;Platos Preparados;6.75;Italia;Risotto cremoso con champiñones frescos, una delicia italiana para disfrutar en casa., C3;Tiramisú;Postres;5.49;Italia;Postre clásico italiano con capas de bizcocho de café, mascarpone y cacao en polvo., D4;Panettone;Repostería;10.99;Italia;Pan dulce navideño italiano con frutas confitadas y pasas, un regalo tradicional en Italia.]"
      ]
     },
     "execution_count": 12,
     "metadata": {},
     "output_type": "execute_result"
    }
   ],
   "source": [
    "df4.head(4)"
   ]
  },
  {
   "cell_type": "code",
   "execution_count": 13,
   "id": "4a8c2b0b",
   "metadata": {},
   "outputs": [],
   "source": [
    "import csv\n",
    "\n",
    "input_file = \"productos.csv\"\n",
    "output_file = \"productos_corregido2.csv\"\n",
    "\n",
    "with open(input_file, \"r\", encoding=\"utf-8\") as infile, open(output_file, \"w\", encoding=\"utf-8\", newline=\"\") as outfile:\n",
    "    reader = csv.reader(infile)\n",
    "    writer = csv.writer(outfile, quoting=csv.QUOTE_MINIMAL)\n",
    "\n",
    "    # Saltar líneas vacías hasta encontrar la cabecera\n",
    "    for row in reader:\n",
    "        if any(field.strip() for field in row):  # fila no vacía\n",
    "            writer.writerow(row)  # Escribimos encabezado\n",
    "            expected_columns = len(row)\n",
    "            break  # salimos del loop: ya tenemos la cabecera\n",
    "\n",
    "    # Procesar el resto del archivo\n",
    "    for row in reader:\n",
    "        if not any(field.strip() for field in row):  # fila vacía\n",
    "            continue\n",
    "\n",
    "        if len(row) > expected_columns:\n",
    "            fixed_row = row[:expected_columns - 1]\n",
    "            descripcion = \",\".join(row[expected_columns - 1:])\n",
    "            fixed_row.append(descripcion.strip())\n",
    "            writer.writerow(fixed_row)\n",
    "        else:\n",
    "            writer.writerow(row)"
   ]
  },
  {
   "cell_type": "code",
   "execution_count": 14,
   "id": "ae10f6df",
   "metadata": {},
   "outputs": [
    {
     "data": {
      "text/html": [
       "<div>\n",
       "<style scoped>\n",
       "    .dataframe tbody tr th:only-of-type {\n",
       "        vertical-align: middle;\n",
       "    }\n",
       "\n",
       "    .dataframe tbody tr th {\n",
       "        vertical-align: top;\n",
       "    }\n",
       "\n",
       "    .dataframe thead th {\n",
       "        text-align: right;\n",
       "    }\n",
       "</style>\n",
       "<table border=\"1\" class=\"dataframe\">\n",
       "  <thead>\n",
       "    <tr style=\"text-align: right;\">\n",
       "      <th></th>\n",
       "      <th>ID;Nombre_Producto;Categoría;Precio;Origen;Descripción</th>\n",
       "    </tr>\n",
       "  </thead>\n",
       "  <tbody>\n",
       "    <tr>\n",
       "      <th>0</th>\n",
       "      <td>A1;Pizza Margherita;Platos Preparados;8.99;Ita...</td>\n",
       "    </tr>\n",
       "    <tr>\n",
       "      <th>1</th>\n",
       "      <td>B2;Risotto de Champiñones;Platos Preparados;6....</td>\n",
       "    </tr>\n",
       "    <tr>\n",
       "      <th>2</th>\n",
       "      <td>C3;Tiramisú;Postres;5.49;Italia;Postre clásico...</td>\n",
       "    </tr>\n",
       "    <tr>\n",
       "      <th>3</th>\n",
       "      <td>D4;Panettone;Repostería;10.99;Italia;Pan dulce...</td>\n",
       "    </tr>\n",
       "    <tr>\n",
       "      <th>4</th>\n",
       "      <td>E5;Orecchiette;Productos Secos;4.29;Italia;Peq...</td>\n",
       "    </tr>\n",
       "  </tbody>\n",
       "</table>\n",
       "</div>"
      ],
      "text/plain": [
       "  ID;Nombre_Producto;Categoría;Precio;Origen;Descripción\n",
       "0  A1;Pizza Margherita;Platos Preparados;8.99;Ita...    \n",
       "1  B2;Risotto de Champiñones;Platos Preparados;6....    \n",
       "2  C3;Tiramisú;Postres;5.49;Italia;Postre clásico...    \n",
       "3  D4;Panettone;Repostería;10.99;Italia;Pan dulce...    \n",
       "4  E5;Orecchiette;Productos Secos;4.29;Italia;Peq...    "
      ]
     },
     "execution_count": 14,
     "metadata": {},
     "output_type": "execute_result"
    }
   ],
   "source": [
    "df5= pd.read_csv(\"productos_corregido2.csv\")\n",
    "df5.head()"
   ]
  },
  {
   "cell_type": "code",
   "execution_count": 15,
   "id": "558abbed",
   "metadata": {},
   "outputs": [
    {
     "data": {
      "text/html": [
       "<div>\n",
       "<style scoped>\n",
       "    .dataframe tbody tr th:only-of-type {\n",
       "        vertical-align: middle;\n",
       "    }\n",
       "\n",
       "    .dataframe tbody tr th {\n",
       "        vertical-align: top;\n",
       "    }\n",
       "\n",
       "    .dataframe thead th {\n",
       "        text-align: right;\n",
       "    }\n",
       "</style>\n",
       "<table border=\"1\" class=\"dataframe\">\n",
       "  <thead>\n",
       "    <tr style=\"text-align: right;\">\n",
       "      <th></th>\n",
       "      <th>ID</th>\n",
       "      <th>Nombre_Producto</th>\n",
       "      <th>Categoría</th>\n",
       "      <th>Precio</th>\n",
       "      <th>Origen</th>\n",
       "      <th>Descripción</th>\n",
       "    </tr>\n",
       "  </thead>\n",
       "  <tbody>\n",
       "    <tr>\n",
       "      <th>0</th>\n",
       "      <td>A1</td>\n",
       "      <td>Pizza Margherita</td>\n",
       "      <td>Platos Preparados</td>\n",
       "      <td>8.99</td>\n",
       "      <td>Italia</td>\n",
       "      <td>Clásica pizza italiana con tomate, mozzarella ...</td>\n",
       "    </tr>\n",
       "    <tr>\n",
       "      <th>1</th>\n",
       "      <td>B2</td>\n",
       "      <td>Risotto de Champiñones</td>\n",
       "      <td>Platos Preparados</td>\n",
       "      <td>6.75</td>\n",
       "      <td>Italia</td>\n",
       "      <td>Risotto cremoso con champiñones frescos, una d...</td>\n",
       "    </tr>\n",
       "    <tr>\n",
       "      <th>2</th>\n",
       "      <td>C3</td>\n",
       "      <td>Tiramisú</td>\n",
       "      <td>Postres</td>\n",
       "      <td>5.49</td>\n",
       "      <td>Italia</td>\n",
       "      <td>Postre clásico italiano con capas de bizcocho ...</td>\n",
       "    </tr>\n",
       "    <tr>\n",
       "      <th>3</th>\n",
       "      <td>D4</td>\n",
       "      <td>Panettone</td>\n",
       "      <td>Repostería</td>\n",
       "      <td>10.99</td>\n",
       "      <td>Italia</td>\n",
       "      <td>Pan dulce navideño italiano con frutas confita...</td>\n",
       "    </tr>\n",
       "    <tr>\n",
       "      <th>4</th>\n",
       "      <td>E5</td>\n",
       "      <td>Orecchiette</td>\n",
       "      <td>Productos Secos</td>\n",
       "      <td>4.29</td>\n",
       "      <td>Italia</td>\n",
       "      <td>Pequeñas pastas con forma de orecchiette ideal...</td>\n",
       "    </tr>\n",
       "  </tbody>\n",
       "</table>\n",
       "</div>"
      ],
      "text/plain": [
       "   ID         Nombre_Producto          Categoría Precio  Origen  \\\n",
       "0  A1        Pizza Margherita  Platos Preparados   8.99  Italia   \n",
       "1  B2  Risotto de Champiñones  Platos Preparados   6.75  Italia   \n",
       "2  C3                Tiramisú            Postres   5.49  Italia   \n",
       "3  D4               Panettone         Repostería  10.99  Italia   \n",
       "4  E5             Orecchiette    Productos Secos   4.29  Italia   \n",
       "\n",
       "                                         Descripción  \n",
       "0  Clásica pizza italiana con tomate, mozzarella ...  \n",
       "1  Risotto cremoso con champiñones frescos, una d...  \n",
       "2  Postre clásico italiano con capas de bizcocho ...  \n",
       "3  Pan dulce navideño italiano con frutas confita...  \n",
       "4  Pequeñas pastas con forma de orecchiette ideal...  "
      ]
     },
     "execution_count": 15,
     "metadata": {},
     "output_type": "execute_result"
    }
   ],
   "source": [
    "df2= pd.read_csv(\"productos.csv\", sep=\";\")\n",
    "df2.head()"
   ]
  },
  {
   "cell_type": "markdown",
   "id": "f7c53a8e",
   "metadata": {},
   "source": [
    "\n",
    "Limpiar los datos: manejar valores nulos, eliminar duplicados si los hay, corregir errores tipográficos, etc."
   ]
  },
  {
   "cell_type": "code",
   "execution_count": 16,
   "id": "8209db5a",
   "metadata": {},
   "outputs": [
    {
     "data": {
      "text/plain": [
       "np.int64(77)"
      ]
     },
     "execution_count": 16,
     "metadata": {},
     "output_type": "execute_result"
    }
   ],
   "source": [
    "df3[\"gender\"].isna().sum()"
   ]
  },
  {
   "cell_type": "code",
   "execution_count": 17,
   "id": "53b1bfa0",
   "metadata": {},
   "outputs": [
    {
     "data": {
      "text/plain": [
       "array(['Palma De Mallorca', 'Lugo', nan, 'Leon',\n",
       "       \"Hospitalet De Llobregat, L'\", 'Lleida', 'Santander', 'Malaga',\n",
       "       'Valladolid', 'Murcia', 'Pamplona/Iruña', 'Barcelona', 'Palencia',\n",
       "       'Pontevedra', 'Girona', 'Fuenlabrada', 'Jaen', 'Almeria',\n",
       "       'Elx/Elche', 'Getafe', 'Sevilla', 'Coruña, A', 'Zaragoza',\n",
       "       'Palmas De Gran Canaria, Las', 'Cadiz', 'Tarragona',\n",
       "       'Santiago De Compostela', 'Donostia-San Sebastian', 'Cartagena',\n",
       "       'Madrid', 'Ceuta', 'Vigo', 'Valencia', 'Sabadell', 'Granada',\n",
       "       'Albacete', 'Teruel', 'Aviles',\n",
       "       'Castellon De La Plana/Castello De La Pla', 'Vitoria-Gasteiz',\n",
       "       'Zamora', 'Santa Cruz De Tenerife', 'Logroño', 'Torrevieja',\n",
       "       'Leganes', 'Gijon', 'Toledo', 'Badajoz', 'Dos Hermanas', 'Ourense',\n",
       "       'Ferrol', 'Salamanca', 'Sant Cugat Del Valles', 'Huesca',\n",
       "       'Alicante/Alacant', 'Telde'], dtype=object)"
      ]
     },
     "execution_count": 17,
     "metadata": {},
     "output_type": "execute_result"
    }
   ],
   "source": [
    "df3[\"City\"].unique()"
   ]
  },
  {
   "cell_type": "code",
   "execution_count": 18,
   "id": "c64fcc49",
   "metadata": {},
   "outputs": [],
   "source": [
    "nuevas_columnas = {columna: columna.lower() for columna in df3.columns}\n",
    "df3.rename(columns=nuevas_columnas, inplace= True)"
   ]
  },
  {
   "cell_type": "code",
   "execution_count": 19,
   "id": "ad8af2d0",
   "metadata": {},
   "outputs": [
    {
     "data": {
      "text/html": [
       "<div>\n",
       "<style scoped>\n",
       "    .dataframe tbody tr th:only-of-type {\n",
       "        vertical-align: middle;\n",
       "    }\n",
       "\n",
       "    .dataframe tbody tr th {\n",
       "        vertical-align: top;\n",
       "    }\n",
       "\n",
       "    .dataframe thead th {\n",
       "        text-align: right;\n",
       "    }\n",
       "</style>\n",
       "<table border=\"1\" class=\"dataframe\">\n",
       "  <thead>\n",
       "    <tr style=\"text-align: right;\">\n",
       "      <th></th>\n",
       "      <th>id</th>\n",
       "      <th>first_name</th>\n",
       "      <th>last_name</th>\n",
       "      <th>email</th>\n",
       "      <th>gender</th>\n",
       "      <th>city</th>\n",
       "      <th>country</th>\n",
       "      <th>address</th>\n",
       "    </tr>\n",
       "  </thead>\n",
       "  <tbody>\n",
       "    <tr>\n",
       "      <th>0</th>\n",
       "      <td>1</td>\n",
       "      <td>Cheri</td>\n",
       "      <td>Dunsmore</td>\n",
       "      <td>cdunsmore0@instagram.com</td>\n",
       "      <td>Female</td>\n",
       "      <td>Palma De Mallorca</td>\n",
       "      <td>Spain</td>\n",
       "      <td>076 Rockefeller Crossing</td>\n",
       "    </tr>\n",
       "    <tr>\n",
       "      <th>1</th>\n",
       "      <td>2</td>\n",
       "      <td>Hunt</td>\n",
       "      <td>Bartomeu</td>\n",
       "      <td>hbartomeu1@nsw.gov.au</td>\n",
       "      <td>Male</td>\n",
       "      <td>Lugo</td>\n",
       "      <td>Spain</td>\n",
       "      <td>0046 Utah Junction</td>\n",
       "    </tr>\n",
       "    <tr>\n",
       "      <th>2</th>\n",
       "      <td>3</td>\n",
       "      <td>Michaeline</td>\n",
       "      <td>Paynton</td>\n",
       "      <td>mpaynton2@narod.ru</td>\n",
       "      <td>Female</td>\n",
       "      <td>NaN</td>\n",
       "      <td>Spain</td>\n",
       "      <td>0 Corry Crossing</td>\n",
       "    </tr>\n",
       "    <tr>\n",
       "      <th>3</th>\n",
       "      <td>4</td>\n",
       "      <td>Filmer</td>\n",
       "      <td>Eirwin</td>\n",
       "      <td>feirwin3@intel.com</td>\n",
       "      <td>NaN</td>\n",
       "      <td>Leon</td>\n",
       "      <td>Spain</td>\n",
       "      <td>5 American Ash Road</td>\n",
       "    </tr>\n",
       "    <tr>\n",
       "      <th>4</th>\n",
       "      <td>5</td>\n",
       "      <td>Tanhya</td>\n",
       "      <td>Lubbock</td>\n",
       "      <td>tlubbock4@huffingtonpost.com</td>\n",
       "      <td>Female</td>\n",
       "      <td>Hospitalet De Llobregat, L'</td>\n",
       "      <td>Spain</td>\n",
       "      <td>9289 Merry Circle</td>\n",
       "    </tr>\n",
       "  </tbody>\n",
       "</table>\n",
       "</div>"
      ],
      "text/plain": [
       "   id  first_name last_name                         email  gender  \\\n",
       "0   1       Cheri  Dunsmore      cdunsmore0@instagram.com  Female   \n",
       "1   2        Hunt  Bartomeu         hbartomeu1@nsw.gov.au    Male   \n",
       "2   3  Michaeline   Paynton            mpaynton2@narod.ru  Female   \n",
       "3   4      Filmer    Eirwin            feirwin3@intel.com     NaN   \n",
       "4   5      Tanhya   Lubbock  tlubbock4@huffingtonpost.com  Female   \n",
       "\n",
       "                          city country                   address  \n",
       "0            Palma De Mallorca   Spain  076 Rockefeller Crossing  \n",
       "1                         Lugo   Spain        0046 Utah Junction  \n",
       "2                          NaN   Spain          0 Corry Crossing  \n",
       "3                         Leon   Spain       5 American Ash Road  \n",
       "4  Hospitalet De Llobregat, L'   Spain         9289 Merry Circle  "
      ]
     },
     "execution_count": 19,
     "metadata": {},
     "output_type": "execute_result"
    }
   ],
   "source": [
    "df3.head()"
   ]
  },
  {
   "cell_type": "code",
   "execution_count": 20,
   "id": "e1705e9c",
   "metadata": {},
   "outputs": [
    {
     "name": "stdout",
     "output_type": "stream",
     "text": [
      "<class 'pandas.core.frame.DataFrame'>\n",
      "RangeIndex: 1000 entries, 0 to 999\n",
      "Data columns (total 8 columns):\n",
      " #   Column      Non-Null Count  Dtype \n",
      "---  ------      --------------  ----- \n",
      " 0   id          1000 non-null   int64 \n",
      " 1   first_name  1000 non-null   object\n",
      " 2   last_name   1000 non-null   object\n",
      " 3   email       973 non-null    object\n",
      " 4   gender      923 non-null    object\n",
      " 5   city        876 non-null    object\n",
      " 6   country     846 non-null    object\n",
      " 7   address     959 non-null    object\n",
      "dtypes: int64(1), object(7)\n",
      "memory usage: 62.6+ KB\n"
     ]
    }
   ],
   "source": [
    "df3.info()"
   ]
  },
  {
   "cell_type": "code",
   "execution_count": 21,
   "id": "adb8aeb0",
   "metadata": {},
   "outputs": [
    {
     "data": {
      "text/plain": [
       "np.int64(124)"
      ]
     },
     "execution_count": 21,
     "metadata": {},
     "output_type": "execute_result"
    }
   ],
   "source": [
    "df3[\"city\"].isna().sum()"
   ]
  },
  {
   "cell_type": "code",
   "execution_count": 22,
   "id": "a8ec2664",
   "metadata": {},
   "outputs": [
    {
     "data": {
      "text/plain": [
       "array(['Spain', nan], dtype=object)"
      ]
     },
     "execution_count": 22,
     "metadata": {},
     "output_type": "execute_result"
    }
   ],
   "source": [
    "df3[\"country\"].unique()"
   ]
  },
  {
   "cell_type": "code",
   "execution_count": 24,
   "id": "a43b219f",
   "metadata": {},
   "outputs": [],
   "source": [
    "# df3[\"city\"][\"country\"]"
   ]
  },
  {
   "cell_type": "code",
   "execution_count": 25,
   "id": "a2ba4abf",
   "metadata": {},
   "outputs": [
    {
     "data": {
      "text/html": [
       "<div>\n",
       "<style scoped>\n",
       "    .dataframe tbody tr th:only-of-type {\n",
       "        vertical-align: middle;\n",
       "    }\n",
       "\n",
       "    .dataframe tbody tr th {\n",
       "        vertical-align: top;\n",
       "    }\n",
       "\n",
       "    .dataframe thead th {\n",
       "        text-align: right;\n",
       "    }\n",
       "</style>\n",
       "<table border=\"1\" class=\"dataframe\">\n",
       "  <thead>\n",
       "    <tr style=\"text-align: right;\">\n",
       "      <th></th>\n",
       "      <th>ID</th>\n",
       "      <th>Nombre_Producto</th>\n",
       "      <th>Categoría</th>\n",
       "      <th>Precio</th>\n",
       "      <th>Origen</th>\n",
       "      <th>Descripción</th>\n",
       "    </tr>\n",
       "  </thead>\n",
       "  <tbody>\n",
       "    <tr>\n",
       "      <th>0</th>\n",
       "      <td>A1</td>\n",
       "      <td>Pizza Margherita</td>\n",
       "      <td>Platos Preparados</td>\n",
       "      <td>8.99</td>\n",
       "      <td>Italia</td>\n",
       "      <td>Clásica pizza italiana con tomate, mozzarella ...</td>\n",
       "    </tr>\n",
       "    <tr>\n",
       "      <th>1</th>\n",
       "      <td>B2</td>\n",
       "      <td>Risotto de Champiñones</td>\n",
       "      <td>Platos Preparados</td>\n",
       "      <td>6.75</td>\n",
       "      <td>Italia</td>\n",
       "      <td>Risotto cremoso con champiñones frescos, una d...</td>\n",
       "    </tr>\n",
       "  </tbody>\n",
       "</table>\n",
       "</div>"
      ],
      "text/plain": [
       "   ID         Nombre_Producto          Categoría Precio  Origen  \\\n",
       "0  A1        Pizza Margherita  Platos Preparados   8.99  Italia   \n",
       "1  B2  Risotto de Champiñones  Platos Preparados   6.75  Italia   \n",
       "\n",
       "                                         Descripción  \n",
       "0  Clásica pizza italiana con tomate, mozzarella ...  \n",
       "1  Risotto cremoso con champiñones frescos, una d...  "
      ]
     },
     "execution_count": 25,
     "metadata": {},
     "output_type": "execute_result"
    }
   ],
   "source": [
    "df2.head(2)"
   ]
  },
  {
   "cell_type": "code",
   "execution_count": 26,
   "id": "ff74fdeb",
   "metadata": {},
   "outputs": [],
   "source": [
    "nuevas_columnas = {columna: columna.lower() for columna in df2.columns}\n",
    "df2.rename(columns=nuevas_columnas, inplace= True)"
   ]
  },
  {
   "cell_type": "code",
   "execution_count": 27,
   "id": "50e33e17",
   "metadata": {},
   "outputs": [],
   "source": [
    "nuevas_columnas = {columna: columna.lower() for columna in df.columns}\n",
    "df.rename(columns=nuevas_columnas, inplace= True)"
   ]
  },
  {
   "cell_type": "code",
   "execution_count": 28,
   "id": "45279359",
   "metadata": {},
   "outputs": [
    {
     "data": {
      "text/html": [
       "<div>\n",
       "<style scoped>\n",
       "    .dataframe tbody tr th:only-of-type {\n",
       "        vertical-align: middle;\n",
       "    }\n",
       "\n",
       "    .dataframe tbody tr th {\n",
       "        vertical-align: top;\n",
       "    }\n",
       "\n",
       "    .dataframe thead th {\n",
       "        text-align: right;\n",
       "    }\n",
       "</style>\n",
       "<table border=\"1\" class=\"dataframe\">\n",
       "  <thead>\n",
       "    <tr style=\"text-align: right;\">\n",
       "      <th></th>\n",
       "      <th>id_cliente</th>\n",
       "      <th>id_producto</th>\n",
       "      <th>fecha_venta</th>\n",
       "      <th>cantidad</th>\n",
       "      <th>total</th>\n",
       "    </tr>\n",
       "  </thead>\n",
       "  <tbody>\n",
       "    <tr>\n",
       "      <th>0</th>\n",
       "      <td>723</td>\n",
       "      <td>A1</td>\n",
       "      <td>2023-11-22</td>\n",
       "      <td>2</td>\n",
       "      <td>17.98</td>\n",
       "    </tr>\n",
       "    <tr>\n",
       "      <th>1</th>\n",
       "      <td>498</td>\n",
       "      <td>C3</td>\n",
       "      <td>2023-11-21</td>\n",
       "      <td>1</td>\n",
       "      <td>5.49</td>\n",
       "    </tr>\n",
       "    <tr>\n",
       "      <th>2</th>\n",
       "      <td>121</td>\n",
       "      <td>D4</td>\n",
       "      <td>2023-11-20</td>\n",
       "      <td>3</td>\n",
       "      <td>32.97</td>\n",
       "    </tr>\n",
       "    <tr>\n",
       "      <th>3</th>\n",
       "      <td>885</td>\n",
       "      <td>L12</td>\n",
       "      <td>2023-11-19</td>\n",
       "      <td>1</td>\n",
       "      <td>6.49</td>\n",
       "    </tr>\n",
       "    <tr>\n",
       "      <th>4</th>\n",
       "      <td>347</td>\n",
       "      <td>Q17</td>\n",
       "      <td>2023-11-18</td>\n",
       "      <td>2</td>\n",
       "      <td>7.98</td>\n",
       "    </tr>\n",
       "  </tbody>\n",
       "</table>\n",
       "</div>"
      ],
      "text/plain": [
       "   id_cliente id_producto fecha_venta  cantidad  total\n",
       "0         723          A1  2023-11-22         2  17.98\n",
       "1         498          C3  2023-11-21         1   5.49\n",
       "2         121          D4  2023-11-20         3  32.97\n",
       "3         885         L12  2023-11-19         1   6.49\n",
       "4         347         Q17  2023-11-18         2   7.98"
      ]
     },
     "execution_count": 28,
     "metadata": {},
     "output_type": "execute_result"
    }
   ],
   "source": [
    "df.head()"
   ]
  },
  {
   "cell_type": "code",
   "execution_count": 29,
   "id": "3f0a5257",
   "metadata": {},
   "outputs": [
    {
     "data": {
      "text/plain": [
       "np.int64(0)"
      ]
     },
     "execution_count": 29,
     "metadata": {},
     "output_type": "execute_result"
    }
   ],
   "source": [
    "df3[\"id\"].duplicated().sum()"
   ]
  },
  {
   "cell_type": "code",
   "execution_count": 30,
   "id": "11744a9d",
   "metadata": {},
   "outputs": [
    {
     "data": {
      "text/plain": [
       "np.int64(0)"
      ]
     },
     "execution_count": 30,
     "metadata": {},
     "output_type": "execute_result"
    }
   ],
   "source": [
    "df2[\"id\"].duplicated().sum()"
   ]
  },
  {
   "cell_type": "code",
   "execution_count": 31,
   "id": "ca2dc850",
   "metadata": {},
   "outputs": [
    {
     "data": {
      "text/html": [
       "<div>\n",
       "<style scoped>\n",
       "    .dataframe tbody tr th:only-of-type {\n",
       "        vertical-align: middle;\n",
       "    }\n",
       "\n",
       "    .dataframe tbody tr th {\n",
       "        vertical-align: top;\n",
       "    }\n",
       "\n",
       "    .dataframe thead th {\n",
       "        text-align: right;\n",
       "    }\n",
       "</style>\n",
       "<table border=\"1\" class=\"dataframe\">\n",
       "  <thead>\n",
       "    <tr style=\"text-align: right;\">\n",
       "      <th></th>\n",
       "      <th>id</th>\n",
       "      <th>first_name</th>\n",
       "      <th>last_name</th>\n",
       "      <th>email</th>\n",
       "      <th>gender</th>\n",
       "      <th>city</th>\n",
       "      <th>country</th>\n",
       "      <th>address</th>\n",
       "    </tr>\n",
       "  </thead>\n",
       "  <tbody>\n",
       "  </tbody>\n",
       "</table>\n",
       "</div>"
      ],
      "text/plain": [
       "Empty DataFrame\n",
       "Columns: [id, first_name, last_name, email, gender, city, country, address]\n",
       "Index: []"
      ]
     },
     "execution_count": 31,
     "metadata": {},
     "output_type": "execute_result"
    }
   ],
   "source": [
    "df3[df3.duplicated(subset='id')] #aparece vacío porque no hay duplicados\n",
    "#si hubiese duplicados aparecerían en la lista. Es otra opción\n",
    "#para hacer lo de la columna de arriba, pero la de arriba solo te muestra el id y sin dataframe"
   ]
  },
  {
   "cell_type": "code",
   "execution_count": 32,
   "id": "23811449",
   "metadata": {},
   "outputs": [
    {
     "data": {
      "text/plain": [
       "array(['2023-11-22', '2023-11-21', '2023-11-20', '2023-11-19',\n",
       "       '2023-11-18', '2023-11-17', '2023-11-16', '2023-11-15',\n",
       "       '2023-11-14', '2023-11-13', '2023-11-08', '2023-11-07',\n",
       "       '2023-11-06', '2023-11-05', '2023-11-04', '2023-11-03',\n",
       "       '2023-11-02', '2023-11-01', '2023-10-31', '2023-10-30',\n",
       "       '2023-10-29', '2023-10-28', '2023-10-27', '2023-10-26',\n",
       "       '2023-10-25', '2023-10-24', '2023-10-23', '2023-10-22',\n",
       "       '2023-10-21', '2023-10-20', '2023-10-19', '2023-10-18',\n",
       "       '2023-10-17', '2023-10-16', '2023-10-15', '2023-10-14',\n",
       "       '2023-10-13', '2023-10-12', '2023-10-11', '2023-10-10',\n",
       "       '2023-10-09', '2023-10-08', '2023-10-07', '2023-10-06',\n",
       "       '2023-10-05', '2023-10-04', '2023-10-03', '2023-10-02',\n",
       "       '2023-10-01', '2023-09-30', '2023-09-29', '2023-09-28',\n",
       "       '2023-09-27', '2023-09-26', '2023-09-25', '2023-09-24',\n",
       "       '2023-09-23', '2023-09-22', '2023-09-21', '2023-09-20',\n",
       "       '2023-09-19', '2023-09-18', '2023-09-17', '2023-09-16',\n",
       "       '2023-09-15', '2023-09-14', '2023-09-13', '2023-09-12',\n",
       "       '2023-09-11', '2023-09-10', '2023-09-09', '2023-09-08',\n",
       "       '2023-09-07', '2023-09-06', '2023-09-05', '2023-09-04',\n",
       "       '2023-09-03', '2023-09-02', '2023-09-01', '2023-08-31'],\n",
       "      dtype=object)"
      ]
     },
     "execution_count": 32,
     "metadata": {},
     "output_type": "execute_result"
    }
   ],
   "source": [
    "df[\"fecha_venta\"].unique()"
   ]
  },
  {
   "cell_type": "markdown",
   "id": "c4aecdf0",
   "metadata": {},
   "source": [
    "\n",
    "Realizar la integración de datos: unir los conjuntos de datos apropiados para obtener una tabla única que contenga información de ventas junto con detalles de productos y clientes."
   ]
  },
  {
   "cell_type": "code",
   "execution_count": 34,
   "id": "dcf3c5ed",
   "metadata": {},
   "outputs": [
    {
     "data": {
      "text/html": [
       "<div>\n",
       "<style scoped>\n",
       "    .dataframe tbody tr th:only-of-type {\n",
       "        vertical-align: middle;\n",
       "    }\n",
       "\n",
       "    .dataframe tbody tr th {\n",
       "        vertical-align: top;\n",
       "    }\n",
       "\n",
       "    .dataframe thead th {\n",
       "        text-align: right;\n",
       "    }\n",
       "</style>\n",
       "<table border=\"1\" class=\"dataframe\">\n",
       "  <thead>\n",
       "    <tr style=\"text-align: right;\">\n",
       "      <th></th>\n",
       "      <th>id_cliente</th>\n",
       "      <th>id_producto</th>\n",
       "      <th>fecha_venta</th>\n",
       "      <th>cantidad</th>\n",
       "      <th>total</th>\n",
       "    </tr>\n",
       "  </thead>\n",
       "  <tbody>\n",
       "    <tr>\n",
       "      <th>0</th>\n",
       "      <td>723</td>\n",
       "      <td>A1</td>\n",
       "      <td>2023-11-22</td>\n",
       "      <td>2</td>\n",
       "      <td>17.98</td>\n",
       "    </tr>\n",
       "    <tr>\n",
       "      <th>1</th>\n",
       "      <td>498</td>\n",
       "      <td>C3</td>\n",
       "      <td>2023-11-21</td>\n",
       "      <td>1</td>\n",
       "      <td>5.49</td>\n",
       "    </tr>\n",
       "    <tr>\n",
       "      <th>2</th>\n",
       "      <td>121</td>\n",
       "      <td>D4</td>\n",
       "      <td>2023-11-20</td>\n",
       "      <td>3</td>\n",
       "      <td>32.97</td>\n",
       "    </tr>\n",
       "    <tr>\n",
       "      <th>3</th>\n",
       "      <td>885</td>\n",
       "      <td>L12</td>\n",
       "      <td>2023-11-19</td>\n",
       "      <td>1</td>\n",
       "      <td>6.49</td>\n",
       "    </tr>\n",
       "    <tr>\n",
       "      <th>4</th>\n",
       "      <td>347</td>\n",
       "      <td>Q17</td>\n",
       "      <td>2023-11-18</td>\n",
       "      <td>2</td>\n",
       "      <td>7.98</td>\n",
       "    </tr>\n",
       "    <tr>\n",
       "      <th>...</th>\n",
       "      <td>...</td>\n",
       "      <td>...</td>\n",
       "      <td>...</td>\n",
       "      <td>...</td>\n",
       "      <td>...</td>\n",
       "    </tr>\n",
       "    <tr>\n",
       "      <th>95</th>\n",
       "      <td>234</td>\n",
       "      <td>AR136</td>\n",
       "      <td>2023-09-04</td>\n",
       "      <td>1</td>\n",
       "      <td>8.45</td>\n",
       "    </tr>\n",
       "    <tr>\n",
       "      <th>96</th>\n",
       "      <td>987</td>\n",
       "      <td>AS137</td>\n",
       "      <td>2023-09-03</td>\n",
       "      <td>2</td>\n",
       "      <td>12.50</td>\n",
       "    </tr>\n",
       "    <tr>\n",
       "      <th>97</th>\n",
       "      <td>543</td>\n",
       "      <td>AT138</td>\n",
       "      <td>2023-09-02</td>\n",
       "      <td>1</td>\n",
       "      <td>4.75</td>\n",
       "    </tr>\n",
       "    <tr>\n",
       "      <th>98</th>\n",
       "      <td>234</td>\n",
       "      <td>AU139</td>\n",
       "      <td>2023-09-01</td>\n",
       "      <td>2</td>\n",
       "      <td>9.98</td>\n",
       "    </tr>\n",
       "    <tr>\n",
       "      <th>99</th>\n",
       "      <td>987</td>\n",
       "      <td>AV140</td>\n",
       "      <td>2023-08-31</td>\n",
       "      <td>1</td>\n",
       "      <td>5.25</td>\n",
       "    </tr>\n",
       "  </tbody>\n",
       "</table>\n",
       "<p>100 rows × 5 columns</p>\n",
       "</div>"
      ],
      "text/plain": [
       "    id_cliente id_producto fecha_venta  cantidad  total\n",
       "0          723          A1  2023-11-22         2  17.98\n",
       "1          498          C3  2023-11-21         1   5.49\n",
       "2          121          D4  2023-11-20         3  32.97\n",
       "3          885         L12  2023-11-19         1   6.49\n",
       "4          347         Q17  2023-11-18         2   7.98\n",
       "..         ...         ...         ...       ...    ...\n",
       "95         234       AR136  2023-09-04         1   8.45\n",
       "96         987       AS137  2023-09-03         2  12.50\n",
       "97         543       AT138  2023-09-02         1   4.75\n",
       "98         234       AU139  2023-09-01         2   9.98\n",
       "99         987       AV140  2023-08-31         1   5.25\n",
       "\n",
       "[100 rows x 5 columns]"
      ]
     },
     "execution_count": 34,
     "metadata": {},
     "output_type": "execute_result"
    }
   ],
   "source": [
    "#df es ventas\n",
    "#añadir detalles de descripción?\n",
    "df\n",
    "\n",
    "# Realizar la integración de datos: unir los conjuntos de datos apropiados para obtener una tabla única que contenga información de ventas junto con detalles de productos y clientes."
   ]
  },
  {
   "cell_type": "code",
   "execution_count": 37,
   "id": "dc8f3721",
   "metadata": {},
   "outputs": [
    {
     "data": {
      "text/html": [
       "<div>\n",
       "<style scoped>\n",
       "    .dataframe tbody tr th:only-of-type {\n",
       "        vertical-align: middle;\n",
       "    }\n",
       "\n",
       "    .dataframe tbody tr th {\n",
       "        vertical-align: top;\n",
       "    }\n",
       "\n",
       "    .dataframe thead th {\n",
       "        text-align: right;\n",
       "    }\n",
       "</style>\n",
       "<table border=\"1\" class=\"dataframe\">\n",
       "  <thead>\n",
       "    <tr style=\"text-align: right;\">\n",
       "      <th></th>\n",
       "      <th>id_cliente</th>\n",
       "      <th>id_producto</th>\n",
       "      <th>fecha_venta</th>\n",
       "      <th>cantidad</th>\n",
       "      <th>total</th>\n",
       "    </tr>\n",
       "  </thead>\n",
       "  <tbody>\n",
       "    <tr>\n",
       "      <th>0</th>\n",
       "      <td>723</td>\n",
       "      <td>A1</td>\n",
       "      <td>2023-11-22</td>\n",
       "      <td>2</td>\n",
       "      <td>17.98</td>\n",
       "    </tr>\n",
       "  </tbody>\n",
       "</table>\n",
       "</div>"
      ],
      "text/plain": [
       "   id_cliente id_producto fecha_venta  cantidad  total\n",
       "0         723          A1  2023-11-22         2  17.98"
      ]
     },
     "execution_count": 37,
     "metadata": {},
     "output_type": "execute_result"
    }
   ],
   "source": [
    "df.head(1)"
   ]
  },
  {
   "cell_type": "code",
   "execution_count": 41,
   "id": "b32c7002",
   "metadata": {},
   "outputs": [],
   "source": [
    "# Paso 1: Unir ventas con clientes\n",
    "ventas_clientes = pd.merge(\n",
    "   df,\n",
    "    df3,\n",
    "    how='left',\n",
    "    left_on='id_cliente',\n",
    "    right_on='id'\n",
    ")"
   ]
  },
  {
   "cell_type": "code",
   "execution_count": 43,
   "id": "38fb2d77",
   "metadata": {},
   "outputs": [],
   "source": [
    "\n",
    "# Paso 2: Unir el resultado con productos\n",
    "df_final = pd.merge(\n",
    "    ventas_clientes,\n",
    "    df2,\n",
    "    how='left',\n",
    "    left_on='id_producto',\n",
    "    right_on='id'\n",
    ")"
   ]
  },
  {
   "cell_type": "code",
   "execution_count": 40,
   "id": "81dcfba3",
   "metadata": {},
   "outputs": [
    {
     "data": {
      "text/html": [
       "<div>\n",
       "<style scoped>\n",
       "    .dataframe tbody tr th:only-of-type {\n",
       "        vertical-align: middle;\n",
       "    }\n",
       "\n",
       "    .dataframe tbody tr th {\n",
       "        vertical-align: top;\n",
       "    }\n",
       "\n",
       "    .dataframe thead th {\n",
       "        text-align: right;\n",
       "    }\n",
       "</style>\n",
       "<table border=\"1\" class=\"dataframe\">\n",
       "  <thead>\n",
       "    <tr style=\"text-align: right;\">\n",
       "      <th></th>\n",
       "      <th>id</th>\n",
       "      <th>nombre_producto</th>\n",
       "      <th>categoría</th>\n",
       "      <th>precio</th>\n",
       "      <th>origen</th>\n",
       "      <th>descripción</th>\n",
       "    </tr>\n",
       "  </thead>\n",
       "  <tbody>\n",
       "    <tr>\n",
       "      <th>0</th>\n",
       "      <td>A1</td>\n",
       "      <td>Pizza Margherita</td>\n",
       "      <td>Platos Preparados</td>\n",
       "      <td>8.99</td>\n",
       "      <td>Italia</td>\n",
       "      <td>Clásica pizza italiana con tomate, mozzarella ...</td>\n",
       "    </tr>\n",
       "  </tbody>\n",
       "</table>\n",
       "</div>"
      ],
      "text/plain": [
       "   id   nombre_producto          categoría precio  origen  \\\n",
       "0  A1  Pizza Margherita  Platos Preparados   8.99  Italia   \n",
       "\n",
       "                                         descripción  \n",
       "0  Clásica pizza italiana con tomate, mozzarella ...  "
      ]
     },
     "execution_count": 40,
     "metadata": {},
     "output_type": "execute_result"
    }
   ],
   "source": [
    "df2.head(1)"
   ]
  },
  {
   "cell_type": "code",
   "execution_count": 39,
   "id": "64fb8214",
   "metadata": {},
   "outputs": [
    {
     "data": {
      "text/html": [
       "<div>\n",
       "<style scoped>\n",
       "    .dataframe tbody tr th:only-of-type {\n",
       "        vertical-align: middle;\n",
       "    }\n",
       "\n",
       "    .dataframe tbody tr th {\n",
       "        vertical-align: top;\n",
       "    }\n",
       "\n",
       "    .dataframe thead th {\n",
       "        text-align: right;\n",
       "    }\n",
       "</style>\n",
       "<table border=\"1\" class=\"dataframe\">\n",
       "  <thead>\n",
       "    <tr style=\"text-align: right;\">\n",
       "      <th></th>\n",
       "      <th>id</th>\n",
       "      <th>first_name</th>\n",
       "      <th>last_name</th>\n",
       "      <th>email</th>\n",
       "      <th>gender</th>\n",
       "      <th>city</th>\n",
       "      <th>country</th>\n",
       "      <th>address</th>\n",
       "    </tr>\n",
       "  </thead>\n",
       "  <tbody>\n",
       "    <tr>\n",
       "      <th>0</th>\n",
       "      <td>1</td>\n",
       "      <td>Cheri</td>\n",
       "      <td>Dunsmore</td>\n",
       "      <td>cdunsmore0@instagram.com</td>\n",
       "      <td>Female</td>\n",
       "      <td>Palma De Mallorca</td>\n",
       "      <td>Spain</td>\n",
       "      <td>076 Rockefeller Crossing</td>\n",
       "    </tr>\n",
       "  </tbody>\n",
       "</table>\n",
       "</div>"
      ],
      "text/plain": [
       "   id first_name last_name                     email  gender  \\\n",
       "0   1      Cheri  Dunsmore  cdunsmore0@instagram.com  Female   \n",
       "\n",
       "                city country                   address  \n",
       "0  Palma De Mallorca   Spain  076 Rockefeller Crossing  "
      ]
     },
     "execution_count": 39,
     "metadata": {},
     "output_type": "execute_result"
    }
   ],
   "source": [
    "df3.head(1)"
   ]
  },
  {
   "cell_type": "code",
   "execution_count": 46,
   "id": "cfe7cc6e",
   "metadata": {},
   "outputs": [
    {
     "data": {
      "text/plain": [
       "Index(['id_cliente', 'id_producto', 'fecha_venta', 'cantidad', 'total', 'id_x',\n",
       "       'first_name', 'last_name', 'email', 'gender', 'city', 'country',\n",
       "       'address', 'id_y', 'nombre_producto', 'categoría', 'precio', 'origen',\n",
       "       'descripción'],\n",
       "      dtype='object')"
      ]
     },
     "execution_count": 46,
     "metadata": {},
     "output_type": "execute_result"
    }
   ],
   "source": [
    "df_final.columns"
   ]
  },
  {
   "cell_type": "code",
   "execution_count": 47,
   "id": "57211f47",
   "metadata": {},
   "outputs": [],
   "source": [
    "\n",
    "\n",
    "# df ventas  todo \n",
    "# df2 productos nombre_producto categoria precio origen descripcion (no incluir id)\n",
    "# df3 cliente todo\n",
    "\n",
    "# ventas junto con detalles de productos y clientes\n",
    "\n",
    "\"\"\" Si después del merge tienes columnas repetidas como cliente_id y id_cliente, puedes limpiarlas:\n",
    "python\n",
    "CopiarEditar \"\"\"\n",
    "# Eliminar columnas duplicadas o renombrar\n",
    "df_final.drop(['id_y', 'id_x'], axis=1, inplace=True)\n",
    "\n"
   ]
  },
  {
   "cell_type": "code",
   "execution_count": 48,
   "id": "18b5cbcb",
   "metadata": {},
   "outputs": [
    {
     "data": {
      "text/html": [
       "<div>\n",
       "<style scoped>\n",
       "    .dataframe tbody tr th:only-of-type {\n",
       "        vertical-align: middle;\n",
       "    }\n",
       "\n",
       "    .dataframe tbody tr th {\n",
       "        vertical-align: top;\n",
       "    }\n",
       "\n",
       "    .dataframe thead th {\n",
       "        text-align: right;\n",
       "    }\n",
       "</style>\n",
       "<table border=\"1\" class=\"dataframe\">\n",
       "  <thead>\n",
       "    <tr style=\"text-align: right;\">\n",
       "      <th></th>\n",
       "      <th>id_cliente</th>\n",
       "      <th>id_producto</th>\n",
       "      <th>fecha_venta</th>\n",
       "      <th>cantidad</th>\n",
       "      <th>total</th>\n",
       "      <th>first_name</th>\n",
       "      <th>last_name</th>\n",
       "      <th>email</th>\n",
       "      <th>gender</th>\n",
       "      <th>city</th>\n",
       "      <th>country</th>\n",
       "      <th>address</th>\n",
       "      <th>nombre_producto</th>\n",
       "      <th>categoría</th>\n",
       "      <th>precio</th>\n",
       "      <th>origen</th>\n",
       "      <th>descripción</th>\n",
       "    </tr>\n",
       "  </thead>\n",
       "  <tbody>\n",
       "    <tr>\n",
       "      <th>0</th>\n",
       "      <td>723</td>\n",
       "      <td>A1</td>\n",
       "      <td>2023-11-22</td>\n",
       "      <td>2</td>\n",
       "      <td>17.98</td>\n",
       "      <td>Sephira</td>\n",
       "      <td>Bleackley</td>\n",
       "      <td>sbleackleyk2@liveinternet.ru</td>\n",
       "      <td>NaN</td>\n",
       "      <td>Girona</td>\n",
       "      <td>NaN</td>\n",
       "      <td>4 Birchwood Road</td>\n",
       "      <td>Pizza Margherita</td>\n",
       "      <td>Platos Preparados</td>\n",
       "      <td>8.99</td>\n",
       "      <td>Italia</td>\n",
       "      <td>Clásica pizza italiana con tomate, mozzarella ...</td>\n",
       "    </tr>\n",
       "  </tbody>\n",
       "</table>\n",
       "</div>"
      ],
      "text/plain": [
       "   id_cliente id_producto fecha_venta  cantidad  total first_name  last_name  \\\n",
       "0         723          A1  2023-11-22         2  17.98    Sephira  Bleackley   \n",
       "\n",
       "                          email gender    city country           address  \\\n",
       "0  sbleackleyk2@liveinternet.ru    NaN  Girona     NaN  4 Birchwood Road   \n",
       "\n",
       "    nombre_producto          categoría precio  origen  \\\n",
       "0  Pizza Margherita  Platos Preparados   8.99  Italia   \n",
       "\n",
       "                                         descripción  \n",
       "0  Clásica pizza italiana con tomate, mozzarella ...  "
      ]
     },
     "execution_count": 48,
     "metadata": {},
     "output_type": "execute_result"
    }
   ],
   "source": [
    "df_final.head(1)"
   ]
  },
  {
   "cell_type": "code",
   "execution_count": 50,
   "id": "5fa6785c",
   "metadata": {},
   "outputs": [
    {
     "data": {
      "text/plain": [
       "Index(['id_cliente', 'id_producto', 'fecha_venta', 'cantidad', 'total',\n",
       "       'first_name', 'last_name', 'email', 'gender', 'city', 'country',\n",
       "       'address', 'nombre_producto', 'categoría', 'precio', 'origen',\n",
       "       'descripción'],\n",
       "      dtype='object')"
      ]
     },
     "execution_count": 50,
     "metadata": {},
     "output_type": "execute_result"
    }
   ],
   "source": [
    "df_final.columns"
   ]
  },
  {
   "cell_type": "code",
   "execution_count": 49,
   "id": "e72026ef",
   "metadata": {},
   "outputs": [],
   "source": [
    "df_final.to_csv('df_pair.csv', index=False)"
   ]
  },
  {
   "cell_type": "code",
   "execution_count": null,
   "id": "49f5f859",
   "metadata": {},
   "outputs": [],
   "source": [
    "import pandas as pd\n",
    "# Lê apenas as colunas desejadas de cada arquivo\n",
    "df1 = pd.read_csv('arquivo1.csv', usecols=['id', 'email'])\n",
    "df2 = pd.read_csv('arquivo2.csv', usecols=['id', 'city'])\n",
    "df3 = pd.read_csv('arquivo3.csv', usecols=['id', 'country'])\n",
    "# Junta todos com base no id (merge horizontal, não vertical)\n",
    "df_total = df1.merge(df2, on='id', how='outer') \\\n",
    "              .merge(df3, on='id', how='outer')\n",
    "# Visualiza o resultado\n",
    "print(df_total.head())"
   ]
  },
  {
   "cell_type": "code",
   "execution_count": null,
   "id": "711f28a6",
   "metadata": {},
   "outputs": [],
   "source": [
    "import pandas as pd\n",
    "# Lê os 3 arquivos\n",
    "df1 = pd.read_csv('arquivo1.csv')\n",
    "df2 = pd.read_csv('arquivo2.csv')\n",
    "df3 = pd.read_csv('arquivo3.csv')\n",
    "# Junta todos em um único DataFrame\n",
    "df_total = pd.concat([df1, df2, df3], ignore_index=True)\n",
    "# Visualiza o resultado\n",
    "print(df_total.head())"
   ]
  }
 ],
 "metadata": {
  "kernelspec": {
   "display_name": "Python 3",
   "language": "python",
   "name": "python3"
  },
  "language_info": {
   "codemirror_mode": {
    "name": "ipython",
    "version": 3
   },
   "file_extension": ".py",
   "mimetype": "text/x-python",
   "name": "python",
   "nbconvert_exporter": "python",
   "pygments_lexer": "ipython3",
   "version": "3.13.3"
  }
 },
 "nbformat": 4,
 "nbformat_minor": 5
}
